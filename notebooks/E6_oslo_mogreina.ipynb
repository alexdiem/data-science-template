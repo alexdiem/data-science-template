{
 "cells": [
  {
   "cell_type": "code",
   "execution_count": 2,
   "id": "98bfe712-d728-4753-ab09-00182ce8b53d",
   "metadata": {},
   "outputs": [],
   "source": [
    "import pandas as pd\n",
    "import seaborn as sns\n",
    "import numpy as np\n",
    "import glob\n",
    "\n",
    "\n"
   ]
  },
  {
   "cell_type": "code",
   "execution_count": 2,
   "id": "493961ec-0deb-4536-98b4-264dc61af2a0",
   "metadata": {},
   "outputs": [
    {
     "name": "stdout",
     "output_type": "stream",
     "text": [
      "/home/bjogro/data-science-template/data\n"
     ]
    }
   ],
   "source": [
    "!pwd"
   ]
  },
  {
   "cell_type": "code",
   "execution_count": 3,
   "id": "2a7ae37a-a764-4129-8b57-6a268c95be33",
   "metadata": {},
   "outputs": [],
   "source": [
    "df = pd.read_csv('/home/bjogro/data-science-template/data/trafikkdata_hourly_30552V444220.csv')"
   ]
  },
  {
   "cell_type": "code",
   "execution_count": 4,
   "id": "ccc87530-11bd-4685-8511-025eac21c0b1",
   "metadata": {},
   "outputs": [
    {
     "data": {
      "text/html": [
       "<div>\n",
       "<style scoped>\n",
       "    .dataframe tbody tr th:only-of-type {\n",
       "        vertical-align: middle;\n",
       "    }\n",
       "\n",
       "    .dataframe tbody tr th {\n",
       "        vertical-align: top;\n",
       "    }\n",
       "\n",
       "    .dataframe thead th {\n",
       "        text-align: right;\n",
       "    }\n",
       "</style>\n",
       "<table border=\"1\" class=\"dataframe\">\n",
       "  <thead>\n",
       "    <tr style=\"text-align: right;\">\n",
       "      <th></th>\n",
       "      <th>node.to</th>\n",
       "      <th>trafikk_id</th>\n",
       "      <th>total.volumeNumbers.volume</th>\n",
       "      <th>total.volumeNumbers.volume[5.6,..)</th>\n",
       "      <th>total.volumeNumbers.volume[5.6,7.6)</th>\n",
       "      <th>total.volumeNumbers.volume[7.6,12.5)</th>\n",
       "      <th>total.volumeNumbers.volume[12.5,16.0)</th>\n",
       "      <th>total.volumeNumbers.volume[16.0,24.0)</th>\n",
       "      <th>total.volumeNumbers.volume[24.0,..)</th>\n",
       "    </tr>\n",
       "  </thead>\n",
       "  <tbody>\n",
       "    <tr>\n",
       "      <th>0</th>\n",
       "      <td>2019-01-01T02:00:00+01:00</td>\n",
       "      <td>30552V444220</td>\n",
       "      <td>709.0</td>\n",
       "      <td>7.0</td>\n",
       "      <td>2.0</td>\n",
       "      <td>2.0</td>\n",
       "      <td>3.0</td>\n",
       "      <td>0.0</td>\n",
       "      <td>0.0</td>\n",
       "    </tr>\n",
       "    <tr>\n",
       "      <th>1</th>\n",
       "      <td>2019-01-01T03:00:00+01:00</td>\n",
       "      <td>30552V444220</td>\n",
       "      <td>466.0</td>\n",
       "      <td>13.0</td>\n",
       "      <td>7.0</td>\n",
       "      <td>1.0</td>\n",
       "      <td>2.0</td>\n",
       "      <td>3.0</td>\n",
       "      <td>0.0</td>\n",
       "    </tr>\n",
       "    <tr>\n",
       "      <th>2</th>\n",
       "      <td>2019-01-01T04:00:00+01:00</td>\n",
       "      <td>30552V444220</td>\n",
       "      <td>225.0</td>\n",
       "      <td>4.0</td>\n",
       "      <td>2.0</td>\n",
       "      <td>0.0</td>\n",
       "      <td>1.0</td>\n",
       "      <td>0.0</td>\n",
       "      <td>1.0</td>\n",
       "    </tr>\n",
       "    <tr>\n",
       "      <th>3</th>\n",
       "      <td>2019-01-01T05:00:00+01:00</td>\n",
       "      <td>30552V444220</td>\n",
       "      <td>205.0</td>\n",
       "      <td>17.0</td>\n",
       "      <td>5.0</td>\n",
       "      <td>1.0</td>\n",
       "      <td>8.0</td>\n",
       "      <td>3.0</td>\n",
       "      <td>0.0</td>\n",
       "    </tr>\n",
       "    <tr>\n",
       "      <th>4</th>\n",
       "      <td>2019-01-01T06:00:00+01:00</td>\n",
       "      <td>30552V444220</td>\n",
       "      <td>184.0</td>\n",
       "      <td>26.0</td>\n",
       "      <td>1.0</td>\n",
       "      <td>6.0</td>\n",
       "      <td>10.0</td>\n",
       "      <td>8.0</td>\n",
       "      <td>1.0</td>\n",
       "    </tr>\n",
       "  </tbody>\n",
       "</table>\n",
       "</div>"
      ],
      "text/plain": [
       "                     node.to    trafikk_id  total.volumeNumbers.volume  \\\n",
       "0  2019-01-01T02:00:00+01:00  30552V444220                       709.0   \n",
       "1  2019-01-01T03:00:00+01:00  30552V444220                       466.0   \n",
       "2  2019-01-01T04:00:00+01:00  30552V444220                       225.0   \n",
       "3  2019-01-01T05:00:00+01:00  30552V444220                       205.0   \n",
       "4  2019-01-01T06:00:00+01:00  30552V444220                       184.0   \n",
       "\n",
       "   total.volumeNumbers.volume[5.6,..)  total.volumeNumbers.volume[5.6,7.6)  \\\n",
       "0                                 7.0                                  2.0   \n",
       "1                                13.0                                  7.0   \n",
       "2                                 4.0                                  2.0   \n",
       "3                                17.0                                  5.0   \n",
       "4                                26.0                                  1.0   \n",
       "\n",
       "   total.volumeNumbers.volume[7.6,12.5)  \\\n",
       "0                                   2.0   \n",
       "1                                   1.0   \n",
       "2                                   0.0   \n",
       "3                                   1.0   \n",
       "4                                   6.0   \n",
       "\n",
       "   total.volumeNumbers.volume[12.5,16.0)  \\\n",
       "0                                    3.0   \n",
       "1                                    2.0   \n",
       "2                                    1.0   \n",
       "3                                    8.0   \n",
       "4                                   10.0   \n",
       "\n",
       "   total.volumeNumbers.volume[16.0,24.0)  total.volumeNumbers.volume[24.0,..)  \n",
       "0                                    0.0                                  0.0  \n",
       "1                                    3.0                                  0.0  \n",
       "2                                    0.0                                  1.0  \n",
       "3                                    3.0                                  0.0  \n",
       "4                                    8.0                                  1.0  "
      ]
     },
     "execution_count": 4,
     "metadata": {},
     "output_type": "execute_result"
    }
   ],
   "source": [
    "df.head()"
   ]
  },
  {
   "cell_type": "code",
   "execution_count": 5,
   "id": "c4e11d15-b83d-4450-8b44-bf6dc39d9a3e",
   "metadata": {},
   "outputs": [
    {
     "name": "stdout",
     "output_type": "stream",
     "text": [
      "<class 'pandas.core.frame.DataFrame'>\n",
      "RangeIndex: 8760 entries, 0 to 8759\n",
      "Data columns (total 9 columns):\n",
      " #   Column                                 Non-Null Count  Dtype  \n",
      "---  ------                                 --------------  -----  \n",
      " 0   node.to                                8760 non-null   object \n",
      " 1   trafikk_id                             8760 non-null   object \n",
      " 2   total.volumeNumbers.volume             8758 non-null   float64\n",
      " 3   total.volumeNumbers.volume[5.6,..)     8758 non-null   float64\n",
      " 4   total.volumeNumbers.volume[5.6,7.6)    8758 non-null   float64\n",
      " 5   total.volumeNumbers.volume[7.6,12.5)   8758 non-null   float64\n",
      " 6   total.volumeNumbers.volume[12.5,16.0)  8758 non-null   float64\n",
      " 7   total.volumeNumbers.volume[16.0,24.0)  8758 non-null   float64\n",
      " 8   total.volumeNumbers.volume[24.0,..)    8758 non-null   float64\n",
      "dtypes: float64(7), object(2)\n",
      "memory usage: 616.1+ KB\n"
     ]
    }
   ],
   "source": [
    "df.info()"
   ]
  },
  {
   "cell_type": "code",
   "execution_count": 23,
   "id": "93ea7c8f-14c3-42ad-a7ef-bfc8dbc1d8fe",
   "metadata": {},
   "outputs": [],
   "source": [
    "df['node.to'] = pd.to_datetime(df['node.to'], utc=True)\n",
    "\n"
   ]
  },
  {
   "cell_type": "code",
   "execution_count": 24,
   "id": "21c87f57-8822-43da-af4a-f888f93c438a",
   "metadata": {},
   "outputs": [
    {
     "name": "stdout",
     "output_type": "stream",
     "text": [
      "<class 'pandas.core.frame.DataFrame'>\n",
      "RangeIndex: 8760 entries, 0 to 8759\n",
      "Data columns (total 9 columns):\n",
      " #   Column                                 Non-Null Count  Dtype              \n",
      "---  ------                                 --------------  -----              \n",
      " 0   node.to                                8760 non-null   datetime64[ns, UTC]\n",
      " 1   trafikk_id                             8760 non-null   object             \n",
      " 2   total.volumeNumbers.volume             8758 non-null   float64            \n",
      " 3   total.volumeNumbers.volume[5.6,..)     8758 non-null   float64            \n",
      " 4   total.volumeNumbers.volume[5.6,7.6)    8758 non-null   float64            \n",
      " 5   total.volumeNumbers.volume[7.6,12.5)   8758 non-null   float64            \n",
      " 6   total.volumeNumbers.volume[12.5,16.0)  8758 non-null   float64            \n",
      " 7   total.volumeNumbers.volume[16.0,24.0)  8758 non-null   float64            \n",
      " 8   total.volumeNumbers.volume[24.0,..)    8758 non-null   float64            \n",
      "dtypes: datetime64[ns, UTC](1), float64(7), object(1)\n",
      "memory usage: 616.1+ KB\n"
     ]
    }
   ],
   "source": [
    "df.info()"
   ]
  },
  {
   "cell_type": "code",
   "execution_count": 25,
   "id": "ceda2113-de23-4fef-9304-c1a923fceb1d",
   "metadata": {},
   "outputs": [
    {
     "data": {
      "text/plain": [
       "pandas._libs.tslibs.timestamps.Timestamp"
      ]
     },
     "execution_count": 25,
     "metadata": {},
     "output_type": "execute_result"
    }
   ],
   "source": [
    "type(df['node.to'].iloc[1])\n"
   ]
  },
  {
   "cell_type": "code",
   "execution_count": 33,
   "id": "03b2d65f-d6cf-4b8d-8c5a-e43296485cbe",
   "metadata": {},
   "outputs": [
    {
     "data": {
      "text/plain": [
       "8760"
      ]
     },
     "execution_count": 33,
     "metadata": {},
     "output_type": "execute_result"
    }
   ],
   "source": [
    "24*365"
   ]
  },
  {
   "cell_type": "code",
   "execution_count": 34,
   "id": "35637db7-2445-44cd-aad3-bc419103c63d",
   "metadata": {},
   "outputs": [
    {
     "data": {
      "text/plain": [
       "14"
      ]
     },
     "execution_count": 34,
     "metadata": {},
     "output_type": "execute_result"
    }
   ],
   "source": [
    "df.isnull().sum().sum()"
   ]
  },
  {
   "cell_type": "code",
   "execution_count": 40,
   "id": "b7eaa3e0-d893-4c0f-a9f3-c51e772198d6",
   "metadata": {},
   "outputs": [],
   "source": [
    "df.dropna(inplace=True)"
   ]
  },
  {
   "cell_type": "code",
   "execution_count": 41,
   "id": "beee688d-2a43-449c-ac27-7a3410f1b027",
   "metadata": {},
   "outputs": [
    {
     "name": "stdout",
     "output_type": "stream",
     "text": [
      "<class 'pandas.core.frame.DataFrame'>\n",
      "Int64Index: 8758 entries, 0 to 8759\n",
      "Data columns (total 9 columns):\n",
      " #   Column                                 Non-Null Count  Dtype              \n",
      "---  ------                                 --------------  -----              \n",
      " 0   node.to                                8758 non-null   datetime64[ns, UTC]\n",
      " 1   trafikk_id                             8758 non-null   object             \n",
      " 2   total.volumeNumbers.volume             8758 non-null   float64            \n",
      " 3   total.volumeNumbers.volume[5.6,..)     8758 non-null   float64            \n",
      " 4   total.volumeNumbers.volume[5.6,7.6)    8758 non-null   float64            \n",
      " 5   total.volumeNumbers.volume[7.6,12.5)   8758 non-null   float64            \n",
      " 6   total.volumeNumbers.volume[12.5,16.0)  8758 non-null   float64            \n",
      " 7   total.volumeNumbers.volume[16.0,24.0)  8758 non-null   float64            \n",
      " 8   total.volumeNumbers.volume[24.0,..)    8758 non-null   float64            \n",
      "dtypes: datetime64[ns, UTC](1), float64(7), object(1)\n",
      "memory usage: 684.2+ KB\n"
     ]
    }
   ],
   "source": [
    "df.info()"
   ]
  },
  {
   "cell_type": "code",
   "execution_count": 42,
   "id": "1a810646-3b9e-4486-b4f4-d7e4cd15bcee",
   "metadata": {},
   "outputs": [
    {
     "data": {
      "text/plain": [
       "0"
      ]
     },
     "execution_count": 42,
     "metadata": {},
     "output_type": "execute_result"
    }
   ],
   "source": [
    "df.isnull().sum().sum()"
   ]
  },
  {
   "cell_type": "code",
   "execution_count": 43,
   "id": "ff7d9bfd-a3ea-4e6d-9f18-503a4bb4188f",
   "metadata": {},
   "outputs": [
    {
     "data": {
      "text/plain": [
       "node.to                                  2019-06-27 19:00:00+00:00\n",
       "trafikk_id                                            30552V444220\n",
       "total.volumeNumbers.volume                                  1827.0\n",
       "total.volumeNumbers.volume[5.6,..)                           348.0\n",
       "total.volumeNumbers.volume[5.6,7.6)                           79.0\n",
       "total.volumeNumbers.volume[7.6,12.5)                         111.0\n",
       "total.volumeNumbers.volume[12.5,16.0)                         53.0\n",
       "total.volumeNumbers.volume[16.0,24.0)                         97.0\n",
       "total.volumeNumbers.volume[24.0,..)                            8.0\n",
       "Name: 4266, dtype: object"
      ]
     },
     "execution_count": 43,
     "metadata": {},
     "output_type": "execute_result"
    }
   ],
   "source": [
    "df.iloc[4264]"
   ]
  },
  {
   "cell_type": "code",
   "execution_count": 51,
   "id": "5f1d52a1-1701-4917-8592-867235a57070",
   "metadata": {},
   "outputs": [],
   "source": [
    "df = df.set_index('node.to')"
   ]
  },
  {
   "cell_type": "code",
   "execution_count": 84,
   "id": "c572355e-f03a-4545-a402-7062f0911136",
   "metadata": {},
   "outputs": [],
   "source": [
    "df_week = df.resample('W-MON').sum()"
   ]
  },
  {
   "cell_type": "code",
   "execution_count": null,
   "id": "113c1255-ab55-46e5-8ce0-892dbd1ee544",
   "metadata": {},
   "outputs": [],
   "source": []
  },
  {
   "cell_type": "code",
   "execution_count": 77,
   "id": "469211e0-04b0-46e1-96dd-6379f1cb0de1",
   "metadata": {},
   "outputs": [
    {
     "ename": "KeyError",
     "evalue": "'node.to'",
     "output_type": "error",
     "traceback": [
      "\u001b[0;31m---------------------------------------------------------------------------\u001b[0m",
      "\u001b[0;31mKeyError\u001b[0m                                  Traceback (most recent call last)",
      "\u001b[0;32m~/miniconda3/envs/svv-kurs/lib/python3.10/site-packages/pandas/core/indexes/base.py\u001b[0m in \u001b[0;36mget_loc\u001b[0;34m(self, key, method, tolerance)\u001b[0m\n\u001b[1;32m   3360\u001b[0m             \u001b[0;32mtry\u001b[0m\u001b[0;34m:\u001b[0m\u001b[0;34m\u001b[0m\u001b[0;34m\u001b[0m\u001b[0m\n\u001b[0;32m-> 3361\u001b[0;31m                 \u001b[0;32mreturn\u001b[0m \u001b[0mself\u001b[0m\u001b[0;34m.\u001b[0m\u001b[0m_engine\u001b[0m\u001b[0;34m.\u001b[0m\u001b[0mget_loc\u001b[0m\u001b[0;34m(\u001b[0m\u001b[0mcasted_key\u001b[0m\u001b[0;34m)\u001b[0m\u001b[0;34m\u001b[0m\u001b[0;34m\u001b[0m\u001b[0m\n\u001b[0m\u001b[1;32m   3362\u001b[0m             \u001b[0;32mexcept\u001b[0m \u001b[0mKeyError\u001b[0m \u001b[0;32mas\u001b[0m \u001b[0merr\u001b[0m\u001b[0;34m:\u001b[0m\u001b[0;34m\u001b[0m\u001b[0;34m\u001b[0m\u001b[0m\n",
      "\u001b[0;32m~/miniconda3/envs/svv-kurs/lib/python3.10/site-packages/pandas/_libs/index.pyx\u001b[0m in \u001b[0;36mpandas._libs.index.IndexEngine.get_loc\u001b[0;34m()\u001b[0m\n",
      "\u001b[0;32m~/miniconda3/envs/svv-kurs/lib/python3.10/site-packages/pandas/_libs/index.pyx\u001b[0m in \u001b[0;36mpandas._libs.index.IndexEngine.get_loc\u001b[0;34m()\u001b[0m\n",
      "\u001b[0;32mpandas/_libs/hashtable_class_helper.pxi\u001b[0m in \u001b[0;36mpandas._libs.hashtable.PyObjectHashTable.get_item\u001b[0;34m()\u001b[0m\n",
      "\u001b[0;32mpandas/_libs/hashtable_class_helper.pxi\u001b[0m in \u001b[0;36mpandas._libs.hashtable.PyObjectHashTable.get_item\u001b[0;34m()\u001b[0m\n",
      "\u001b[0;31mKeyError\u001b[0m: 'node.to'",
      "\nThe above exception was the direct cause of the following exception:\n",
      "\u001b[0;31mKeyError\u001b[0m                                  Traceback (most recent call last)",
      "\u001b[0;32m/tmp/ipykernel_4147/2603586589.py\u001b[0m in \u001b[0;36m<module>\u001b[0;34m\u001b[0m\n\u001b[0;32m----> 1\u001b[0;31m \u001b[0mdf\u001b[0m\u001b[0;34m[\u001b[0m\u001b[0;34m'node.to'\u001b[0m\u001b[0;34m]\u001b[0m\u001b[0;34m.\u001b[0m\u001b[0mdt\u001b[0m\u001b[0;34m.\u001b[0m\u001b[0misocalendar\u001b[0m\u001b[0;34m(\u001b[0m\u001b[0;34m)\u001b[0m\u001b[0;34m.\u001b[0m\u001b[0mweek\u001b[0m\u001b[0;34m\u001b[0m\u001b[0;34m\u001b[0m\u001b[0m\n\u001b[0m",
      "\u001b[0;32m~/miniconda3/envs/svv-kurs/lib/python3.10/site-packages/pandas/core/frame.py\u001b[0m in \u001b[0;36m__getitem__\u001b[0;34m(self, key)\u001b[0m\n\u001b[1;32m   3456\u001b[0m             \u001b[0;32mif\u001b[0m \u001b[0mself\u001b[0m\u001b[0;34m.\u001b[0m\u001b[0mcolumns\u001b[0m\u001b[0;34m.\u001b[0m\u001b[0mnlevels\u001b[0m \u001b[0;34m>\u001b[0m \u001b[0;36m1\u001b[0m\u001b[0;34m:\u001b[0m\u001b[0;34m\u001b[0m\u001b[0;34m\u001b[0m\u001b[0m\n\u001b[1;32m   3457\u001b[0m                 \u001b[0;32mreturn\u001b[0m \u001b[0mself\u001b[0m\u001b[0;34m.\u001b[0m\u001b[0m_getitem_multilevel\u001b[0m\u001b[0;34m(\u001b[0m\u001b[0mkey\u001b[0m\u001b[0;34m)\u001b[0m\u001b[0;34m\u001b[0m\u001b[0;34m\u001b[0m\u001b[0m\n\u001b[0;32m-> 3458\u001b[0;31m             \u001b[0mindexer\u001b[0m \u001b[0;34m=\u001b[0m \u001b[0mself\u001b[0m\u001b[0;34m.\u001b[0m\u001b[0mcolumns\u001b[0m\u001b[0;34m.\u001b[0m\u001b[0mget_loc\u001b[0m\u001b[0;34m(\u001b[0m\u001b[0mkey\u001b[0m\u001b[0;34m)\u001b[0m\u001b[0;34m\u001b[0m\u001b[0;34m\u001b[0m\u001b[0m\n\u001b[0m\u001b[1;32m   3459\u001b[0m             \u001b[0;32mif\u001b[0m \u001b[0mis_integer\u001b[0m\u001b[0;34m(\u001b[0m\u001b[0mindexer\u001b[0m\u001b[0;34m)\u001b[0m\u001b[0;34m:\u001b[0m\u001b[0;34m\u001b[0m\u001b[0;34m\u001b[0m\u001b[0m\n\u001b[1;32m   3460\u001b[0m                 \u001b[0mindexer\u001b[0m \u001b[0;34m=\u001b[0m \u001b[0;34m[\u001b[0m\u001b[0mindexer\u001b[0m\u001b[0;34m]\u001b[0m\u001b[0;34m\u001b[0m\u001b[0;34m\u001b[0m\u001b[0m\n",
      "\u001b[0;32m~/miniconda3/envs/svv-kurs/lib/python3.10/site-packages/pandas/core/indexes/base.py\u001b[0m in \u001b[0;36mget_loc\u001b[0;34m(self, key, method, tolerance)\u001b[0m\n\u001b[1;32m   3361\u001b[0m                 \u001b[0;32mreturn\u001b[0m \u001b[0mself\u001b[0m\u001b[0;34m.\u001b[0m\u001b[0m_engine\u001b[0m\u001b[0;34m.\u001b[0m\u001b[0mget_loc\u001b[0m\u001b[0;34m(\u001b[0m\u001b[0mcasted_key\u001b[0m\u001b[0;34m)\u001b[0m\u001b[0;34m\u001b[0m\u001b[0;34m\u001b[0m\u001b[0m\n\u001b[1;32m   3362\u001b[0m             \u001b[0;32mexcept\u001b[0m \u001b[0mKeyError\u001b[0m \u001b[0;32mas\u001b[0m \u001b[0merr\u001b[0m\u001b[0;34m:\u001b[0m\u001b[0;34m\u001b[0m\u001b[0;34m\u001b[0m\u001b[0m\n\u001b[0;32m-> 3363\u001b[0;31m                 \u001b[0;32mraise\u001b[0m \u001b[0mKeyError\u001b[0m\u001b[0;34m(\u001b[0m\u001b[0mkey\u001b[0m\u001b[0;34m)\u001b[0m \u001b[0;32mfrom\u001b[0m \u001b[0merr\u001b[0m\u001b[0;34m\u001b[0m\u001b[0;34m\u001b[0m\u001b[0m\n\u001b[0m\u001b[1;32m   3364\u001b[0m \u001b[0;34m\u001b[0m\u001b[0m\n\u001b[1;32m   3365\u001b[0m         \u001b[0;32mif\u001b[0m \u001b[0mis_scalar\u001b[0m\u001b[0;34m(\u001b[0m\u001b[0mkey\u001b[0m\u001b[0;34m)\u001b[0m \u001b[0;32mand\u001b[0m \u001b[0misna\u001b[0m\u001b[0;34m(\u001b[0m\u001b[0mkey\u001b[0m\u001b[0;34m)\u001b[0m \u001b[0;32mand\u001b[0m \u001b[0;32mnot\u001b[0m \u001b[0mself\u001b[0m\u001b[0;34m.\u001b[0m\u001b[0mhasnans\u001b[0m\u001b[0;34m:\u001b[0m\u001b[0;34m\u001b[0m\u001b[0;34m\u001b[0m\u001b[0m\n",
      "\u001b[0;31mKeyError\u001b[0m: 'node.to'"
     ]
    }
   ],
   "source": [
    "df['node.to'].dt.isocalendar().week"
   ]
  },
  {
   "cell_type": "code",
   "execution_count": 78,
   "id": "a14e0400-6ca3-476f-b7f9-a25046016bc6",
   "metadata": {},
   "outputs": [],
   "source": [
    "from statsmodels.tsa.seasonal import seasonal_decompose"
   ]
  },
  {
   "cell_type": "code",
   "execution_count": 85,
   "id": "4d70d19d-126c-4431-824b-0bf7831d5714",
   "metadata": {},
   "outputs": [
    {
     "data": {
      "text/plain": [
       "<AxesSubplot:xlabel='node.to', ylabel='total.volumeNumbers.volume'>"
      ]
     },
     "execution_count": 85,
     "metadata": {},
     "output_type": "execute_result"
    },
    {
     "data": {
      "image/png": "[encoded data removed]",
      "text/plain": [
       "<Figure size 432x288 with 1 Axes>"
      ]
     },
     "metadata": {
      "needs_background": "light"
     },
     "output_type": "display_data"
    }
   ],
   "source": [
    "sns.lineplot(data=df_week, x='node.to', y='total.volumeNumbers.volume')"
   ]
  },
  {
   "cell_type": "code",
   "execution_count": 90,
   "id": "02a6c41a-ccbb-4373-a683-84112936479c",
   "metadata": {},
   "outputs": [
    {
     "data": {
      "text/plain": [
       "Int64Index([1, 2, 3, 4, 5, 6, 0], dtype='int64', name='node.to')"
      ]
     },
     "execution_count": 90,
     "metadata": {},
     "output_type": "execute_result"
    }
   ],
   "source": [
    "df.index.dayofweek.unique()"
   ]
  },
  {
   "cell_type": "code",
   "execution_count": 91,
   "id": "a2e19b7e-d712-4af3-9eda-2a6c254c7af2",
   "metadata": {},
   "outputs": [],
   "source": [
    "df['dayofweek'] = df.index.dayofweek"
   ]
  },
  {
   "cell_type": "code",
   "execution_count": 92,
   "id": "25fd0b50-83e1-4769-bd8d-430b6704cb18",
   "metadata": {},
   "outputs": [
    {
     "data": {
      "text/html": [
       "<div>\n",
       "<style scoped>\n",
       "    .dataframe tbody tr th:only-of-type {\n",
       "        vertical-align: middle;\n",
       "    }\n",
       "\n",
       "    .dataframe tbody tr th {\n",
       "        vertical-align: top;\n",
       "    }\n",
       "\n",
       "    .dataframe thead th {\n",
       "        text-align: right;\n",
       "    }\n",
       "</style>\n",
       "<table border=\"1\" class=\"dataframe\">\n",
       "  <thead>\n",
       "    <tr style=\"text-align: right;\">\n",
       "      <th></th>\n",
       "      <th>trafikk_id</th>\n",
       "      <th>total.volumeNumbers.volume</th>\n",
       "      <th>total.volumeNumbers.volume[5.6,..)</th>\n",
       "      <th>total.volumeNumbers.volume[5.6,7.6)</th>\n",
       "      <th>total.volumeNumbers.volume[7.6,12.5)</th>\n",
       "      <th>total.volumeNumbers.volume[12.5,16.0)</th>\n",
       "      <th>total.volumeNumbers.volume[16.0,24.0)</th>\n",
       "      <th>total.volumeNumbers.volume[24.0,..)</th>\n",
       "      <th>dayofweek</th>\n",
       "    </tr>\n",
       "    <tr>\n",
       "      <th>node.to</th>\n",
       "      <th></th>\n",
       "      <th></th>\n",
       "      <th></th>\n",
       "      <th></th>\n",
       "      <th></th>\n",
       "      <th></th>\n",
       "      <th></th>\n",
       "      <th></th>\n",
       "      <th></th>\n",
       "    </tr>\n",
       "  </thead>\n",
       "  <tbody>\n",
       "    <tr>\n",
       "      <th>2019-01-01 01:00:00+00:00</th>\n",
       "      <td>30552V444220</td>\n",
       "      <td>709.0</td>\n",
       "      <td>7.0</td>\n",
       "      <td>2.0</td>\n",
       "      <td>2.0</td>\n",
       "      <td>3.0</td>\n",
       "      <td>0.0</td>\n",
       "      <td>0.0</td>\n",
       "      <td>1</td>\n",
       "    </tr>\n",
       "    <tr>\n",
       "      <th>2019-01-01 02:00:00+00:00</th>\n",
       "      <td>30552V444220</td>\n",
       "      <td>466.0</td>\n",
       "      <td>13.0</td>\n",
       "      <td>7.0</td>\n",
       "      <td>1.0</td>\n",
       "      <td>2.0</td>\n",
       "      <td>3.0</td>\n",
       "      <td>0.0</td>\n",
       "      <td>1</td>\n",
       "    </tr>\n",
       "    <tr>\n",
       "      <th>2019-01-01 03:00:00+00:00</th>\n",
       "      <td>30552V444220</td>\n",
       "      <td>225.0</td>\n",
       "      <td>4.0</td>\n",
       "      <td>2.0</td>\n",
       "      <td>0.0</td>\n",
       "      <td>1.0</td>\n",
       "      <td>0.0</td>\n",
       "      <td>1.0</td>\n",
       "      <td>1</td>\n",
       "    </tr>\n",
       "    <tr>\n",
       "      <th>2019-01-01 04:00:00+00:00</th>\n",
       "      <td>30552V444220</td>\n",
       "      <td>205.0</td>\n",
       "      <td>17.0</td>\n",
       "      <td>5.0</td>\n",
       "      <td>1.0</td>\n",
       "      <td>8.0</td>\n",
       "      <td>3.0</td>\n",
       "      <td>0.0</td>\n",
       "      <td>1</td>\n",
       "    </tr>\n",
       "    <tr>\n",
       "      <th>2019-01-01 05:00:00+00:00</th>\n",
       "      <td>30552V444220</td>\n",
       "      <td>184.0</td>\n",
       "      <td>26.0</td>\n",
       "      <td>1.0</td>\n",
       "      <td>6.0</td>\n",
       "      <td>10.0</td>\n",
       "      <td>8.0</td>\n",
       "      <td>1.0</td>\n",
       "      <td>1</td>\n",
       "    </tr>\n",
       "  </tbody>\n",
       "</table>\n",
       "</div>"
      ],
      "text/plain": [
       "                             trafikk_id  total.volumeNumbers.volume  \\\n",
       "node.to                                                               \n",
       "2019-01-01 01:00:00+00:00  30552V444220                       709.0   \n",
       "2019-01-01 02:00:00+00:00  30552V444220                       466.0   \n",
       "2019-01-01 03:00:00+00:00  30552V444220                       225.0   \n",
       "2019-01-01 04:00:00+00:00  30552V444220                       205.0   \n",
       "2019-01-01 05:00:00+00:00  30552V444220                       184.0   \n",
       "\n",
       "                           total.volumeNumbers.volume[5.6,..)  \\\n",
       "node.to                                                         \n",
       "2019-01-01 01:00:00+00:00                                 7.0   \n",
       "2019-01-01 02:00:00+00:00                                13.0   \n",
       "2019-01-01 03:00:00+00:00                                 4.0   \n",
       "2019-01-01 04:00:00+00:00                                17.0   \n",
       "2019-01-01 05:00:00+00:00                                26.0   \n",
       "\n",
       "                           total.volumeNumbers.volume[5.6,7.6)  \\\n",
       "node.to                                                          \n",
       "2019-01-01 01:00:00+00:00                                  2.0   \n",
       "2019-01-01 02:00:00+00:00                                  7.0   \n",
       "2019-01-01 03:00:00+00:00                                  2.0   \n",
       "2019-01-01 04:00:00+00:00                                  5.0   \n",
       "2019-01-01 05:00:00+00:00                                  1.0   \n",
       "\n",
       "                           total.volumeNumbers.volume[7.6,12.5)  \\\n",
       "node.to                                                           \n",
       "2019-01-01 01:00:00+00:00                                   2.0   \n",
       "2019-01-01 02:00:00+00:00                                   1.0   \n",
       "2019-01-01 03:00:00+00:00                                   0.0   \n",
       "2019-01-01 04:00:00+00:00                                   1.0   \n",
       "2019-01-01 05:00:00+00:00                                   6.0   \n",
       "\n",
       "                           total.volumeNumbers.volume[12.5,16.0)  \\\n",
       "node.to                                                            \n",
       "2019-01-01 01:00:00+00:00                                    3.0   \n",
       "2019-01-01 02:00:00+00:00                                    2.0   \n",
       "2019-01-01 03:00:00+00:00                                    1.0   \n",
       "2019-01-01 04:00:00+00:00                                    8.0   \n",
       "2019-01-01 05:00:00+00:00                                   10.0   \n",
       "\n",
       "                           total.volumeNumbers.volume[16.0,24.0)  \\\n",
       "node.to                                                            \n",
       "2019-01-01 01:00:00+00:00                                    0.0   \n",
       "2019-01-01 02:00:00+00:00                                    3.0   \n",
       "2019-01-01 03:00:00+00:00                                    0.0   \n",
       "2019-01-01 04:00:00+00:00                                    3.0   \n",
       "2019-01-01 05:00:00+00:00                                    8.0   \n",
       "\n",
       "                           total.volumeNumbers.volume[24.0,..)  dayofweek  \n",
       "node.to                                                                    \n",
       "2019-01-01 01:00:00+00:00                                  0.0          1  \n",
       "2019-01-01 02:00:00+00:00                                  0.0          1  \n",
       "2019-01-01 03:00:00+00:00                                  1.0          1  \n",
       "2019-01-01 04:00:00+00:00                                  0.0          1  \n",
       "2019-01-01 05:00:00+00:00                                  1.0          1  "
      ]
     },
     "execution_count": 92,
     "metadata": {},
     "output_type": "execute_result"
    }
   ],
   "source": [
    "df.head()"
   ]
  },
  {
   "cell_type": "code",
   "execution_count": 135,
   "id": "f525d8b3-ded1-4b08-b201-527415819e88",
   "metadata": {},
   "outputs": [
    {
     "data": {
      "text/plain": [
       "<AxesSubplot:xlabel='node.to', ylabel='total.volumeNumbers.volume'>"
      ]
     },
     "execution_count": 135,
     "metadata": {},
     "output_type": "execute_result"
    },
    {
     "data": {
      "image/png": "[encoded data removed]",
      "text/plain": [
       "<Figure size 432x288 with 1 Axes>"
      ]
     },
     "metadata": {},
     "output_type": "display_data"
    }
   ],
   "source": [
    "#palette = {\n",
    "#    0: 'tab:blue',\n",
    "#    1: 'tab:green',\n",
    "#    2: 'tab:orange',\n",
    "#    3: 'tab:red',\n",
    "#    4: 'tab:pink',\n",
    "#    5: 'tab:gist_rainbow',\n",
    "#    6: 'tab:indigo',\n",
    "#    \n",
    "#}\n",
    "palette=sns.color_palette('Paired', n_colors=7)\n",
    "#sns.set_style('gist_rainbow')\n",
    "#sns.set_palette(sns.color_palette(\"Greens\"))\n",
    "sns.lineplot(x=df.index.hour, y=df['total.volumeNumbers.volume'], palette=palette, hue=df['dayofweek'])\n"
   ]
  },
  {
   "cell_type": "code",
   "execution_count": 81,
   "id": "13da26da-3bc9-44c1-8fc3-8198a790acb5",
   "metadata": {},
   "outputs": [],
   "source": [
    "df_dagmean = df.resample('').mean()"
   ]
  },
  {
   "cell_type": "code",
   "execution_count": 94,
   "id": "325a4203-3dd7-4ebc-aa61-a426064cb1d7",
   "metadata": {},
   "outputs": [
    {
     "data": {
      "text/plain": [
       "<AxesSubplot:xlabel='dayofweek', ylabel='total.volumeNumbers.volume'>"
      ]
     },
     "execution_count": 94,
     "metadata": {},
     "output_type": "execute_result"
    },
    {
     "data": {
      "image/png": "[encoded data removed]",
      "text/plain": [
       "<Figure size 432x288 with 1 Axes>"
      ]
     },
     "metadata": {
      "needs_background": "light"
     },
     "output_type": "display_data"
    }
   ],
   "source": [
    "sns.lineplot(data=df, x='dayofweek', y='total.volumeNumbers.volume')"
   ]
  },
  {
   "cell_type": "markdown",
   "id": "fe7ab678-28bf-45f0-9fb2-30869650816f",
   "metadata": {},
   "source": [
    "Import av resten av filene"
   ]
  },
  {
   "cell_type": "code",
   "execution_count": 4,
   "id": "c8ae78e6-e583-4fa2-8e37-8351a07ad5ab",
   "metadata": {},
   "outputs": [],
   "source": [
    "# slår sammen alle csv filene som vi har fått.\n",
    "filer_fra_tellepunkt = glob.glob('/home/bjogro/data-science-template/data/*.csv')\n",
    "\n",
    "df_fra_hvert_tellepunkt = (pd.read_csv(f, sep=',') for f in filer_fra_tellepunkt)\n",
    "df_total   = pd.concat(df_fra_hvert_tellepunkt, ignore_index=True)\n",
    "del df_fra_hvert_tellepunkt"
   ]
  },
  {
   "cell_type": "code",
   "execution_count": 6,
   "id": "e964747a-9384-4bfb-93ee-bff5117814b4",
   "metadata": {},
   "outputs": [
    {
     "data": {
      "text/plain": [
       "array(['30552V444220', '67263V1811577', '73894V444221', '79854V625215',\n",
       "       '87610V1811579'], dtype=object)"
      ]
     },
     "execution_count": 6,
     "metadata": {},
     "output_type": "execute_result"
    }
   ],
   "source": [
    "df_total['trafikk_id'].unique()"
   ]
  },
  {
   "cell_type": "code",
   "execution_count": 7,
   "id": "8e5f96fa-0f50-4cb7-940f-f96b0c7769e5",
   "metadata": {},
   "outputs": [
    {
     "data": {
      "text/plain": [
       "19131"
      ]
     },
     "execution_count": 7,
     "metadata": {},
     "output_type": "execute_result"
    }
   ],
   "source": [
    "df_total.isnull().sum().sum()"
   ]
  },
  {
   "cell_type": "markdown",
   "id": "1acd2fd0-4325-4a53-9e0a-62768f831d50",
   "metadata": {},
   "source": [
    "dvs at det er 2733 linjer som ikke har tellinger i seg.  Dette kan væer ett problem"
   ]
  },
  {
   "cell_type": "code",
   "execution_count": 10,
   "id": "9d965fb7-7e1a-4cd6-b01d-5eec51e9c769",
   "metadata": {},
   "outputs": [
    {
     "name": "stdout",
     "output_type": "stream",
     "text": [
      "<class 'pandas.core.frame.DataFrame'>\n",
      "RangeIndex: 41781 entries, 0 to 41780\n",
      "Data columns (total 9 columns):\n",
      " #   Column                                 Non-Null Count  Dtype  \n",
      "---  ------                                 --------------  -----  \n",
      " 0   node.to                                41781 non-null  object \n",
      " 1   trafikk_id                             41781 non-null  object \n",
      " 2   total.volumeNumbers.volume             39048 non-null  float64\n",
      " 3   total.volumeNumbers.volume[5.6,..)     39048 non-null  float64\n",
      " 4   total.volumeNumbers.volume[5.6,7.6)    39048 non-null  float64\n",
      " 5   total.volumeNumbers.volume[7.6,12.5)   39048 non-null  float64\n",
      " 6   total.volumeNumbers.volume[12.5,16.0)  39048 non-null  float64\n",
      " 7   total.volumeNumbers.volume[16.0,24.0)  39048 non-null  float64\n",
      " 8   total.volumeNumbers.volume[24.0,..)    39048 non-null  float64\n",
      "dtypes: float64(7), object(2)\n",
      "memory usage: 2.9+ MB\n"
     ]
    }
   ],
   "source": [
    "df_total.info()"
   ]
  },
  {
   "cell_type": "code",
   "execution_count": 11,
   "id": "22d7f1cb-f878-4c91-9739-e4682694b74d",
   "metadata": {},
   "outputs": [],
   "source": [
    "#gjør om node.to til et pandas datetime format\n",
    "df_total['node.to'] = pd.to_datetime(df_total['node.to'], utc=True)"
   ]
  },
  {
   "cell_type": "code",
   "execution_count": 12,
   "id": "7b43e965-084b-48ef-988d-09c75ce7cfab",
   "metadata": {},
   "outputs": [
    {
     "name": "stdout",
     "output_type": "stream",
     "text": [
      "<class 'pandas.core.frame.DataFrame'>\n",
      "RangeIndex: 41781 entries, 0 to 41780\n",
      "Data columns (total 9 columns):\n",
      " #   Column                                 Non-Null Count  Dtype              \n",
      "---  ------                                 --------------  -----              \n",
      " 0   node.to                                41781 non-null  datetime64[ns, UTC]\n",
      " 1   trafikk_id                             41781 non-null  object             \n",
      " 2   total.volumeNumbers.volume             39048 non-null  float64            \n",
      " 3   total.volumeNumbers.volume[5.6,..)     39048 non-null  float64            \n",
      " 4   total.volumeNumbers.volume[5.6,7.6)    39048 non-null  float64            \n",
      " 5   total.volumeNumbers.volume[7.6,12.5)   39048 non-null  float64            \n",
      " 6   total.volumeNumbers.volume[12.5,16.0)  39048 non-null  float64            \n",
      " 7   total.volumeNumbers.volume[16.0,24.0)  39048 non-null  float64            \n",
      " 8   total.volumeNumbers.volume[24.0,..)    39048 non-null  float64            \n",
      "dtypes: datetime64[ns, UTC](1), float64(7), object(1)\n",
      "memory usage: 2.9+ MB\n"
     ]
    }
   ],
   "source": [
    "df_total.info()"
   ]
  },
  {
   "cell_type": "code",
   "execution_count": 30,
   "id": "a7416c59-2990-4082-b11e-0e2fa61cb237",
   "metadata": {},
   "outputs": [
    {
     "data": {
      "text/plain": [
       "numpy.float64"
      ]
     },
     "execution_count": 30,
     "metadata": {},
     "output_type": "execute_result"
    }
   ],
   "source": [
    "type(df_total['total.volumeNumbers.volume'].iloc[1])"
   ]
  },
  {
   "cell_type": "code",
   "execution_count": 16,
   "id": "620c35a2-98c8-44c3-8550-3c1fac5c2b8c",
   "metadata": {},
   "outputs": [],
   "source": [
    "# setter node.to som index for dataframe\n",
    "df_total = df_total.set_index('node.to')"
   ]
  },
  {
   "cell_type": "code",
   "execution_count": 18,
   "id": "6c827f97-3936-4c45-bfd9-b6183f63ebb9",
   "metadata": {},
   "outputs": [
    {
     "data": {
      "text/plain": [
       "Int64Index([1, 2, 3, 4, 5, 6, 0], dtype='int64', name='node.to')"
      ]
     },
     "execution_count": 18,
     "metadata": {},
     "output_type": "execute_result"
    }
   ],
   "source": [
    "df_total.index.dayofweek.unique()"
   ]
  },
  {
   "cell_type": "code",
   "execution_count": 19,
   "id": "1116f075-f220-41b8-8d02-83810fb950ac",
   "metadata": {},
   "outputs": [],
   "source": [
    "df_total['dayofweek'] = df_total.index.dayofweek"
   ]
  },
  {
   "cell_type": "code",
   "execution_count": 44,
   "id": "8a30750d-206f-4bd4-9e34-abe408bd0d92",
   "metadata": {},
   "outputs": [
    {
     "data": {
      "text/html": [
       "<div>\n",
       "<style scoped>\n",
       "    .dataframe tbody tr th:only-of-type {\n",
       "        vertical-align: middle;\n",
       "    }\n",
       "\n",
       "    .dataframe tbody tr th {\n",
       "        vertical-align: top;\n",
       "    }\n",
       "\n",
       "    .dataframe thead th {\n",
       "        text-align: right;\n",
       "    }\n",
       "</style>\n",
       "<table border=\"1\" class=\"dataframe\">\n",
       "  <thead>\n",
       "    <tr style=\"text-align: right;\">\n",
       "      <th></th>\n",
       "      <th>trafikk_id</th>\n",
       "      <th>total.volumeNumbers.volume</th>\n",
       "      <th>total.volumeNumbers.volume[5.6,..)</th>\n",
       "      <th>total.volumeNumbers.volume[5.6,7.6)</th>\n",
       "      <th>total.volumeNumbers.volume[7.6,12.5)</th>\n",
       "      <th>total.volumeNumbers.volume[12.5,16.0)</th>\n",
       "      <th>total.volumeNumbers.volume[16.0,24.0)</th>\n",
       "      <th>total.volumeNumbers.volume[24.0,..)</th>\n",
       "      <th>dayofweek</th>\n",
       "    </tr>\n",
       "    <tr>\n",
       "      <th>node.to</th>\n",
       "      <th></th>\n",
       "      <th></th>\n",
       "      <th></th>\n",
       "      <th></th>\n",
       "      <th></th>\n",
       "      <th></th>\n",
       "      <th></th>\n",
       "      <th></th>\n",
       "      <th></th>\n",
       "    </tr>\n",
       "  </thead>\n",
       "  <tbody>\n",
       "    <tr>\n",
       "      <th>2019-01-01 01:00:00+00:00</th>\n",
       "      <td>30552V444220</td>\n",
       "      <td>709.0</td>\n",
       "      <td>7.0</td>\n",
       "      <td>2.0</td>\n",
       "      <td>2.0</td>\n",
       "      <td>3.0</td>\n",
       "      <td>0.0</td>\n",
       "      <td>0.0</td>\n",
       "      <td>1</td>\n",
       "    </tr>\n",
       "    <tr>\n",
       "      <th>2019-01-01 02:00:00+00:00</th>\n",
       "      <td>30552V444220</td>\n",
       "      <td>466.0</td>\n",
       "      <td>13.0</td>\n",
       "      <td>7.0</td>\n",
       "      <td>1.0</td>\n",
       "      <td>2.0</td>\n",
       "      <td>3.0</td>\n",
       "      <td>0.0</td>\n",
       "      <td>1</td>\n",
       "    </tr>\n",
       "    <tr>\n",
       "      <th>2019-01-01 03:00:00+00:00</th>\n",
       "      <td>30552V444220</td>\n",
       "      <td>225.0</td>\n",
       "      <td>4.0</td>\n",
       "      <td>2.0</td>\n",
       "      <td>0.0</td>\n",
       "      <td>1.0</td>\n",
       "      <td>0.0</td>\n",
       "      <td>1.0</td>\n",
       "      <td>1</td>\n",
       "    </tr>\n",
       "    <tr>\n",
       "      <th>2019-01-01 04:00:00+00:00</th>\n",
       "      <td>30552V444220</td>\n",
       "      <td>205.0</td>\n",
       "      <td>17.0</td>\n",
       "      <td>5.0</td>\n",
       "      <td>1.0</td>\n",
       "      <td>8.0</td>\n",
       "      <td>3.0</td>\n",
       "      <td>0.0</td>\n",
       "      <td>1</td>\n",
       "    </tr>\n",
       "    <tr>\n",
       "      <th>2019-01-01 05:00:00+00:00</th>\n",
       "      <td>30552V444220</td>\n",
       "      <td>184.0</td>\n",
       "      <td>26.0</td>\n",
       "      <td>1.0</td>\n",
       "      <td>6.0</td>\n",
       "      <td>10.0</td>\n",
       "      <td>8.0</td>\n",
       "      <td>1.0</td>\n",
       "      <td>1</td>\n",
       "    </tr>\n",
       "    <tr>\n",
       "      <th>...</th>\n",
       "      <td>...</td>\n",
       "      <td>...</td>\n",
       "      <td>...</td>\n",
       "      <td>...</td>\n",
       "      <td>...</td>\n",
       "      <td>...</td>\n",
       "      <td>...</td>\n",
       "      <td>...</td>\n",
       "      <td>...</td>\n",
       "    </tr>\n",
       "    <tr>\n",
       "      <th>2019-12-31 19:00:00+00:00</th>\n",
       "      <td>87610V1811579</td>\n",
       "      <td>127.0</td>\n",
       "      <td>15.0</td>\n",
       "      <td>4.0</td>\n",
       "      <td>1.0</td>\n",
       "      <td>5.0</td>\n",
       "      <td>5.0</td>\n",
       "      <td>0.0</td>\n",
       "      <td>1</td>\n",
       "    </tr>\n",
       "    <tr>\n",
       "      <th>2019-12-31 20:00:00+00:00</th>\n",
       "      <td>87610V1811579</td>\n",
       "      <td>84.0</td>\n",
       "      <td>10.0</td>\n",
       "      <td>0.0</td>\n",
       "      <td>1.0</td>\n",
       "      <td>2.0</td>\n",
       "      <td>7.0</td>\n",
       "      <td>0.0</td>\n",
       "      <td>1</td>\n",
       "    </tr>\n",
       "    <tr>\n",
       "      <th>2019-12-31 21:00:00+00:00</th>\n",
       "      <td>87610V1811579</td>\n",
       "      <td>88.0</td>\n",
       "      <td>8.0</td>\n",
       "      <td>1.0</td>\n",
       "      <td>3.0</td>\n",
       "      <td>1.0</td>\n",
       "      <td>3.0</td>\n",
       "      <td>0.0</td>\n",
       "      <td>1</td>\n",
       "    </tr>\n",
       "    <tr>\n",
       "      <th>2019-12-31 22:00:00+00:00</th>\n",
       "      <td>87610V1811579</td>\n",
       "      <td>72.0</td>\n",
       "      <td>4.0</td>\n",
       "      <td>1.0</td>\n",
       "      <td>0.0</td>\n",
       "      <td>1.0</td>\n",
       "      <td>2.0</td>\n",
       "      <td>0.0</td>\n",
       "      <td>1</td>\n",
       "    </tr>\n",
       "    <tr>\n",
       "      <th>2019-12-31 23:00:00+00:00</th>\n",
       "      <td>87610V1811579</td>\n",
       "      <td>85.0</td>\n",
       "      <td>2.0</td>\n",
       "      <td>2.0</td>\n",
       "      <td>0.0</td>\n",
       "      <td>0.0</td>\n",
       "      <td>0.0</td>\n",
       "      <td>0.0</td>\n",
       "      <td>1</td>\n",
       "    </tr>\n",
       "  </tbody>\n",
       "</table>\n",
       "<p>6084 rows × 9 columns</p>\n",
       "</div>"
      ],
      "text/plain": [
       "                              trafikk_id  total.volumeNumbers.volume  \\\n",
       "node.to                                                                \n",
       "2019-01-01 01:00:00+00:00   30552V444220                       709.0   \n",
       "2019-01-01 02:00:00+00:00   30552V444220                       466.0   \n",
       "2019-01-01 03:00:00+00:00   30552V444220                       225.0   \n",
       "2019-01-01 04:00:00+00:00   30552V444220                       205.0   \n",
       "2019-01-01 05:00:00+00:00   30552V444220                       184.0   \n",
       "...                                  ...                         ...   \n",
       "2019-12-31 19:00:00+00:00  87610V1811579                       127.0   \n",
       "2019-12-31 20:00:00+00:00  87610V1811579                        84.0   \n",
       "2019-12-31 21:00:00+00:00  87610V1811579                        88.0   \n",
       "2019-12-31 22:00:00+00:00  87610V1811579                        72.0   \n",
       "2019-12-31 23:00:00+00:00  87610V1811579                        85.0   \n",
       "\n",
       "                           total.volumeNumbers.volume[5.6,..)  \\\n",
       "node.to                                                         \n",
       "2019-01-01 01:00:00+00:00                                 7.0   \n",
       "2019-01-01 02:00:00+00:00                                13.0   \n",
       "2019-01-01 03:00:00+00:00                                 4.0   \n",
       "2019-01-01 04:00:00+00:00                                17.0   \n",
       "2019-01-01 05:00:00+00:00                                26.0   \n",
       "...                                                       ...   \n",
       "2019-12-31 19:00:00+00:00                                15.0   \n",
       "2019-12-31 20:00:00+00:00                                10.0   \n",
       "2019-12-31 21:00:00+00:00                                 8.0   \n",
       "2019-12-31 22:00:00+00:00                                 4.0   \n",
       "2019-12-31 23:00:00+00:00                                 2.0   \n",
       "\n",
       "                           total.volumeNumbers.volume[5.6,7.6)  \\\n",
       "node.to                                                          \n",
       "2019-01-01 01:00:00+00:00                                  2.0   \n",
       "2019-01-01 02:00:00+00:00                                  7.0   \n",
       "2019-01-01 03:00:00+00:00                                  2.0   \n",
       "2019-01-01 04:00:00+00:00                                  5.0   \n",
       "2019-01-01 05:00:00+00:00                                  1.0   \n",
       "...                                                        ...   \n",
       "2019-12-31 19:00:00+00:00                                  4.0   \n",
       "2019-12-31 20:00:00+00:00                                  0.0   \n",
       "2019-12-31 21:00:00+00:00                                  1.0   \n",
       "2019-12-31 22:00:00+00:00                                  1.0   \n",
       "2019-12-31 23:00:00+00:00                                  2.0   \n",
       "\n",
       "                           total.volumeNumbers.volume[7.6,12.5)  \\\n",
       "node.to                                                           \n",
       "2019-01-01 01:00:00+00:00                                   2.0   \n",
       "2019-01-01 02:00:00+00:00                                   1.0   \n",
       "2019-01-01 03:00:00+00:00                                   0.0   \n",
       "2019-01-01 04:00:00+00:00                                   1.0   \n",
       "2019-01-01 05:00:00+00:00                                   6.0   \n",
       "...                                                         ...   \n",
       "2019-12-31 19:00:00+00:00                                   1.0   \n",
       "2019-12-31 20:00:00+00:00                                   1.0   \n",
       "2019-12-31 21:00:00+00:00                                   3.0   \n",
       "2019-12-31 22:00:00+00:00                                   0.0   \n",
       "2019-12-31 23:00:00+00:00                                   0.0   \n",
       "\n",
       "                           total.volumeNumbers.volume[12.5,16.0)  \\\n",
       "node.to                                                            \n",
       "2019-01-01 01:00:00+00:00                                    3.0   \n",
       "2019-01-01 02:00:00+00:00                                    2.0   \n",
       "2019-01-01 03:00:00+00:00                                    1.0   \n",
       "2019-01-01 04:00:00+00:00                                    8.0   \n",
       "2019-01-01 05:00:00+00:00                                   10.0   \n",
       "...                                                          ...   \n",
       "2019-12-31 19:00:00+00:00                                    5.0   \n",
       "2019-12-31 20:00:00+00:00                                    2.0   \n",
       "2019-12-31 21:00:00+00:00                                    1.0   \n",
       "2019-12-31 22:00:00+00:00                                    1.0   \n",
       "2019-12-31 23:00:00+00:00                                    0.0   \n",
       "\n",
       "                           total.volumeNumbers.volume[16.0,24.0)  \\\n",
       "node.to                                                            \n",
       "2019-01-01 01:00:00+00:00                                    0.0   \n",
       "2019-01-01 02:00:00+00:00                                    3.0   \n",
       "2019-01-01 03:00:00+00:00                                    0.0   \n",
       "2019-01-01 04:00:00+00:00                                    3.0   \n",
       "2019-01-01 05:00:00+00:00                                    8.0   \n",
       "...                                                          ...   \n",
       "2019-12-31 19:00:00+00:00                                    5.0   \n",
       "2019-12-31 20:00:00+00:00                                    7.0   \n",
       "2019-12-31 21:00:00+00:00                                    3.0   \n",
       "2019-12-31 22:00:00+00:00                                    2.0   \n",
       "2019-12-31 23:00:00+00:00                                    0.0   \n",
       "\n",
       "                           total.volumeNumbers.volume[24.0,..)  dayofweek  \n",
       "node.to                                                                    \n",
       "2019-01-01 01:00:00+00:00                                  0.0          1  \n",
       "2019-01-01 02:00:00+00:00                                  0.0          1  \n",
       "2019-01-01 03:00:00+00:00                                  1.0          1  \n",
       "2019-01-01 04:00:00+00:00                                  0.0          1  \n",
       "2019-01-01 05:00:00+00:00                                  1.0          1  \n",
       "...                                                        ...        ...  \n",
       "2019-12-31 19:00:00+00:00                                  0.0          1  \n",
       "2019-12-31 20:00:00+00:00                                  0.0          1  \n",
       "2019-12-31 21:00:00+00:00                                  0.0          1  \n",
       "2019-12-31 22:00:00+00:00                                  0.0          1  \n",
       "2019-12-31 23:00:00+00:00                                  0.0          1  \n",
       "\n",
       "[6084 rows x 9 columns]"
      ]
     },
     "execution_count": 44,
     "metadata": {},
     "output_type": "execute_result"
    }
   ],
   "source": [
    "df_total[df_total['dayofweek'] == 1]"
   ]
  },
  {
   "cell_type": "code",
   "execution_count": 56,
   "id": "6a95e589-01ef-4f56-a296-04cc8bd520c5",
   "metadata": {},
   "outputs": [
    {
     "data": {
      "image/png": "[encoded data removed]",
      "text/plain": [
       "<Figure size 2179.44x842.4 with 1 Axes>"
      ]
     },
     "metadata": {},
     "output_type": "display_data"
    }
   ],
   "source": [
    "\n",
    "\n",
    "g = sns.catplot(kind = 'bar', y='total.volumeNumbers.volume', x= 'trafikk_id', data = df_total, hue = 'dayofweek')#[df_total['dayofweek'] == 6] )\n",
    "#sns.set(rc={'figure.figsize':(11.7,40.27)})\n",
    "\n",
    "\n",
    "\n",
    "g.fig.set_figwidth(30.27)\n",
    "g.fig.set_figheight(11.7)"
   ]
  },
  {
   "cell_type": "code",
   "execution_count": 57,
   "id": "1939e71f-bb9b-4787-888d-7e082a277fb0",
   "metadata": {},
   "outputs": [
    {
     "data": {
      "image/png": "[encoded data removed]",
      "text/plain": [
       "<Figure size 2179.44x842.4 with 1 Axes>"
      ]
     },
     "metadata": {},
     "output_type": "display_data"
    }
   ],
   "source": [
    "w = sns.catplot(kind = 'bar', y='total.volumeNumbers.volume', x= 'dayofweek', data = df_total, hue = 'trafikk_id')#[df_total['dayofweek'] == 6] )\n",
    "#sns.set(rc={'figure.figsize':(11.7,40.27)})\n",
    "\n",
    "\n",
    "\n",
    "w.fig.set_figwidth(30.27)\n",
    "w.fig.set_figheight(11.7)"
   ]
  },
  {
   "cell_type": "code",
   "execution_count": 20,
   "id": "345211e5-b935-49cd-8667-92db7b4ed097",
   "metadata": {},
   "outputs": [
    {
     "ename": "ValueError",
     "evalue": "cannot reindex from a duplicate axis",
     "output_type": "error",
     "traceback": [
      "\u001b[0;31m---------------------------------------------------------------------------\u001b[0m",
      "\u001b[0;31mValueError\u001b[0m                                Traceback (most recent call last)",
      "\u001b[0;32m/tmp/ipykernel_4380/2055479359.py\u001b[0m in \u001b[0;36m<module>\u001b[0;34m\u001b[0m\n\u001b[1;32m      1\u001b[0m \u001b[0mpalette\u001b[0m\u001b[0;34m=\u001b[0m\u001b[0msns\u001b[0m\u001b[0;34m.\u001b[0m\u001b[0mcolor_palette\u001b[0m\u001b[0;34m(\u001b[0m\u001b[0;34m'Paired'\u001b[0m\u001b[0;34m,\u001b[0m \u001b[0mn_colors\u001b[0m\u001b[0;34m=\u001b[0m\u001b[0;36m7\u001b[0m\u001b[0;34m)\u001b[0m\u001b[0;34m\u001b[0m\u001b[0;34m\u001b[0m\u001b[0m\n\u001b[1;32m      2\u001b[0m \u001b[0;34m\u001b[0m\u001b[0m\n\u001b[0;32m----> 3\u001b[0;31m \u001b[0msns\u001b[0m\u001b[0;34m.\u001b[0m\u001b[0mlineplot\u001b[0m\u001b[0;34m(\u001b[0m\u001b[0mx\u001b[0m\u001b[0;34m=\u001b[0m\u001b[0mdf_total\u001b[0m\u001b[0;34m.\u001b[0m\u001b[0mindex\u001b[0m\u001b[0;34m.\u001b[0m\u001b[0mhour\u001b[0m\u001b[0;34m,\u001b[0m \u001b[0my\u001b[0m\u001b[0;34m=\u001b[0m\u001b[0mdf_total\u001b[0m\u001b[0;34m[\u001b[0m\u001b[0;34m'total.volumeNumbers.volume'\u001b[0m\u001b[0;34m]\u001b[0m\u001b[0;34m,\u001b[0m \u001b[0mpalette\u001b[0m\u001b[0;34m=\u001b[0m\u001b[0mpalette\u001b[0m\u001b[0;34m,\u001b[0m \u001b[0mhue\u001b[0m\u001b[0;34m=\u001b[0m\u001b[0mdf_total\u001b[0m\u001b[0;34m[\u001b[0m\u001b[0;34m'dayofweek'\u001b[0m\u001b[0;34m]\u001b[0m\u001b[0;34m)\u001b[0m\u001b[0;34m\u001b[0m\u001b[0;34m\u001b[0m\u001b[0m\n\u001b[0m",
      "\u001b[0;32m~/miniconda3/envs/svv-kurs/lib/python3.10/site-packages/seaborn/_decorators.py\u001b[0m in \u001b[0;36minner_f\u001b[0;34m(*args, **kwargs)\u001b[0m\n\u001b[1;32m     44\u001b[0m             )\n\u001b[1;32m     45\u001b[0m         \u001b[0mkwargs\u001b[0m\u001b[0;34m.\u001b[0m\u001b[0mupdate\u001b[0m\u001b[0;34m(\u001b[0m\u001b[0;34m{\u001b[0m\u001b[0mk\u001b[0m\u001b[0;34m:\u001b[0m \u001b[0marg\u001b[0m \u001b[0;32mfor\u001b[0m \u001b[0mk\u001b[0m\u001b[0;34m,\u001b[0m \u001b[0marg\u001b[0m \u001b[0;32min\u001b[0m \u001b[0mzip\u001b[0m\u001b[0;34m(\u001b[0m\u001b[0msig\u001b[0m\u001b[0;34m.\u001b[0m\u001b[0mparameters\u001b[0m\u001b[0;34m,\u001b[0m \u001b[0margs\u001b[0m\u001b[0;34m)\u001b[0m\u001b[0;34m}\u001b[0m\u001b[0;34m)\u001b[0m\u001b[0;34m\u001b[0m\u001b[0;34m\u001b[0m\u001b[0m\n\u001b[0;32m---> 46\u001b[0;31m         \u001b[0;32mreturn\u001b[0m \u001b[0mf\u001b[0m\u001b[0;34m(\u001b[0m\u001b[0;34m**\u001b[0m\u001b[0mkwargs\u001b[0m\u001b[0;34m)\u001b[0m\u001b[0;34m\u001b[0m\u001b[0;34m\u001b[0m\u001b[0m\n\u001b[0m\u001b[1;32m     47\u001b[0m     \u001b[0;32mreturn\u001b[0m \u001b[0minner_f\u001b[0m\u001b[0;34m\u001b[0m\u001b[0;34m\u001b[0m\u001b[0m\n\u001b[1;32m     48\u001b[0m \u001b[0;34m\u001b[0m\u001b[0m\n",
      "\u001b[0;32m~/miniconda3/envs/svv-kurs/lib/python3.10/site-packages/seaborn/relational.py\u001b[0m in \u001b[0;36mlineplot\u001b[0;34m(x, y, hue, size, style, data, palette, hue_order, hue_norm, sizes, size_order, size_norm, dashes, markers, style_order, units, estimator, ci, n_boot, seed, sort, err_style, err_kws, legend, ax, **kwargs)\u001b[0m\n\u001b[1;32m    708\u001b[0m     \u001b[0mp\u001b[0m\u001b[0;34m.\u001b[0m\u001b[0m_attach\u001b[0m\u001b[0;34m(\u001b[0m\u001b[0max\u001b[0m\u001b[0;34m)\u001b[0m\u001b[0;34m\u001b[0m\u001b[0;34m\u001b[0m\u001b[0m\n\u001b[1;32m    709\u001b[0m \u001b[0;34m\u001b[0m\u001b[0m\n\u001b[0;32m--> 710\u001b[0;31m     \u001b[0mp\u001b[0m\u001b[0;34m.\u001b[0m\u001b[0mplot\u001b[0m\u001b[0;34m(\u001b[0m\u001b[0max\u001b[0m\u001b[0;34m,\u001b[0m \u001b[0mkwargs\u001b[0m\u001b[0;34m)\u001b[0m\u001b[0;34m\u001b[0m\u001b[0;34m\u001b[0m\u001b[0m\n\u001b[0m\u001b[1;32m    711\u001b[0m     \u001b[0;32mreturn\u001b[0m \u001b[0max\u001b[0m\u001b[0;34m\u001b[0m\u001b[0;34m\u001b[0m\u001b[0m\n\u001b[1;32m    712\u001b[0m \u001b[0;34m\u001b[0m\u001b[0m\n",
      "\u001b[0;32m~/miniconda3/envs/svv-kurs/lib/python3.10/site-packages/seaborn/relational.py\u001b[0m in \u001b[0;36mplot\u001b[0;34m(self, ax, kws)\u001b[0m\n\u001b[1;32m    469\u001b[0m         \u001b[0;31m# Loop over the semantic subsets and add to the plot\u001b[0m\u001b[0;34m\u001b[0m\u001b[0;34m\u001b[0m\u001b[0m\n\u001b[1;32m    470\u001b[0m         \u001b[0mgrouping_vars\u001b[0m \u001b[0;34m=\u001b[0m \u001b[0;34m\"hue\"\u001b[0m\u001b[0;34m,\u001b[0m \u001b[0;34m\"size\"\u001b[0m\u001b[0;34m,\u001b[0m \u001b[0;34m\"style\"\u001b[0m\u001b[0;34m\u001b[0m\u001b[0;34m\u001b[0m\u001b[0m\n\u001b[0;32m--> 471\u001b[0;31m         \u001b[0;32mfor\u001b[0m \u001b[0msub_vars\u001b[0m\u001b[0;34m,\u001b[0m \u001b[0msub_data\u001b[0m \u001b[0;32min\u001b[0m \u001b[0mself\u001b[0m\u001b[0;34m.\u001b[0m\u001b[0miter_data\u001b[0m\u001b[0;34m(\u001b[0m\u001b[0mgrouping_vars\u001b[0m\u001b[0;34m,\u001b[0m \u001b[0mfrom_comp_data\u001b[0m\u001b[0;34m=\u001b[0m\u001b[0;32mTrue\u001b[0m\u001b[0;34m)\u001b[0m\u001b[0;34m:\u001b[0m\u001b[0;34m\u001b[0m\u001b[0;34m\u001b[0m\u001b[0m\n\u001b[0m\u001b[1;32m    472\u001b[0m \u001b[0;34m\u001b[0m\u001b[0m\n\u001b[1;32m    473\u001b[0m             \u001b[0;32mif\u001b[0m \u001b[0mself\u001b[0m\u001b[0;34m.\u001b[0m\u001b[0msort\u001b[0m\u001b[0;34m:\u001b[0m\u001b[0;34m\u001b[0m\u001b[0;34m\u001b[0m\u001b[0m\n",
      "\u001b[0;32m~/miniconda3/envs/svv-kurs/lib/python3.10/site-packages/seaborn/_core.py\u001b[0m in \u001b[0;36miter_data\u001b[0;34m(self, grouping_vars, reverse, from_comp_data)\u001b[0m\n\u001b[1;32m    981\u001b[0m \u001b[0;34m\u001b[0m\u001b[0m\n\u001b[1;32m    982\u001b[0m         \u001b[0;32mif\u001b[0m \u001b[0mfrom_comp_data\u001b[0m\u001b[0;34m:\u001b[0m\u001b[0;34m\u001b[0m\u001b[0;34m\u001b[0m\u001b[0m\n\u001b[0;32m--> 983\u001b[0;31m             \u001b[0mdata\u001b[0m \u001b[0;34m=\u001b[0m \u001b[0mself\u001b[0m\u001b[0;34m.\u001b[0m\u001b[0mcomp_data\u001b[0m\u001b[0;34m\u001b[0m\u001b[0;34m\u001b[0m\u001b[0m\n\u001b[0m\u001b[1;32m    984\u001b[0m         \u001b[0;32melse\u001b[0m\u001b[0;34m:\u001b[0m\u001b[0;34m\u001b[0m\u001b[0;34m\u001b[0m\u001b[0m\n\u001b[1;32m    985\u001b[0m             \u001b[0mdata\u001b[0m \u001b[0;34m=\u001b[0m \u001b[0mself\u001b[0m\u001b[0;34m.\u001b[0m\u001b[0mplot_data\u001b[0m\u001b[0;34m\u001b[0m\u001b[0;34m\u001b[0m\u001b[0m\n",
      "\u001b[0;32m~/miniconda3/envs/svv-kurs/lib/python3.10/site-packages/seaborn/_core.py\u001b[0m in \u001b[0;36mcomp_data\u001b[0;34m(self)\u001b[0m\n\u001b[1;32m   1055\u001b[0m                     \u001b[0morig\u001b[0m \u001b[0;34m=\u001b[0m \u001b[0mself\u001b[0m\u001b[0;34m.\u001b[0m\u001b[0mplot_data\u001b[0m\u001b[0;34m[\u001b[0m\u001b[0mvar\u001b[0m\u001b[0;34m]\u001b[0m\u001b[0;34m.\u001b[0m\u001b[0mdropna\u001b[0m\u001b[0;34m(\u001b[0m\u001b[0;34m)\u001b[0m\u001b[0;34m\u001b[0m\u001b[0;34m\u001b[0m\u001b[0m\n\u001b[1;32m   1056\u001b[0m                 \u001b[0mcomp_col\u001b[0m \u001b[0;34m=\u001b[0m \u001b[0mpd\u001b[0m\u001b[0;34m.\u001b[0m\u001b[0mSeries\u001b[0m\u001b[0;34m(\u001b[0m\u001b[0mindex\u001b[0m\u001b[0;34m=\u001b[0m\u001b[0morig\u001b[0m\u001b[0;34m.\u001b[0m\u001b[0mindex\u001b[0m\u001b[0;34m,\u001b[0m \u001b[0mdtype\u001b[0m\u001b[0;34m=\u001b[0m\u001b[0mfloat\u001b[0m\u001b[0;34m,\u001b[0m \u001b[0mname\u001b[0m\u001b[0;34m=\u001b[0m\u001b[0mvar\u001b[0m\u001b[0;34m)\u001b[0m\u001b[0;34m\u001b[0m\u001b[0;34m\u001b[0m\u001b[0m\n\u001b[0;32m-> 1057\u001b[0;31m                 \u001b[0mcomp_col\u001b[0m\u001b[0;34m.\u001b[0m\u001b[0mloc\u001b[0m\u001b[0;34m[\u001b[0m\u001b[0morig\u001b[0m\u001b[0;34m.\u001b[0m\u001b[0mindex\u001b[0m\u001b[0;34m]\u001b[0m \u001b[0;34m=\u001b[0m \u001b[0mpd\u001b[0m\u001b[0;34m.\u001b[0m\u001b[0mto_numeric\u001b[0m\u001b[0;34m(\u001b[0m\u001b[0maxis\u001b[0m\u001b[0;34m.\u001b[0m\u001b[0mconvert_units\u001b[0m\u001b[0;34m(\u001b[0m\u001b[0morig\u001b[0m\u001b[0;34m)\u001b[0m\u001b[0;34m)\u001b[0m\u001b[0;34m\u001b[0m\u001b[0;34m\u001b[0m\u001b[0m\n\u001b[0m\u001b[1;32m   1058\u001b[0m \u001b[0;34m\u001b[0m\u001b[0m\n\u001b[1;32m   1059\u001b[0m                 \u001b[0;32mif\u001b[0m \u001b[0maxis\u001b[0m\u001b[0;34m.\u001b[0m\u001b[0mget_scale\u001b[0m\u001b[0;34m(\u001b[0m\u001b[0;34m)\u001b[0m \u001b[0;34m==\u001b[0m \u001b[0;34m\"log\"\u001b[0m\u001b[0;34m:\u001b[0m\u001b[0;34m\u001b[0m\u001b[0;34m\u001b[0m\u001b[0m\n",
      "\u001b[0;32m~/miniconda3/envs/svv-kurs/lib/python3.10/site-packages/pandas/core/indexing.py\u001b[0m in \u001b[0;36m__setitem__\u001b[0;34m(self, key, value)\u001b[0m\n\u001b[1;32m    721\u001b[0m \u001b[0;34m\u001b[0m\u001b[0m\n\u001b[1;32m    722\u001b[0m         \u001b[0miloc\u001b[0m \u001b[0;34m=\u001b[0m \u001b[0mself\u001b[0m \u001b[0;32mif\u001b[0m \u001b[0mself\u001b[0m\u001b[0;34m.\u001b[0m\u001b[0mname\u001b[0m \u001b[0;34m==\u001b[0m \u001b[0;34m\"iloc\"\u001b[0m \u001b[0;32melse\u001b[0m \u001b[0mself\u001b[0m\u001b[0;34m.\u001b[0m\u001b[0mobj\u001b[0m\u001b[0;34m.\u001b[0m\u001b[0miloc\u001b[0m\u001b[0;34m\u001b[0m\u001b[0;34m\u001b[0m\u001b[0m\n\u001b[0;32m--> 723\u001b[0;31m         \u001b[0miloc\u001b[0m\u001b[0;34m.\u001b[0m\u001b[0m_setitem_with_indexer\u001b[0m\u001b[0;34m(\u001b[0m\u001b[0mindexer\u001b[0m\u001b[0;34m,\u001b[0m \u001b[0mvalue\u001b[0m\u001b[0;34m,\u001b[0m \u001b[0mself\u001b[0m\u001b[0;34m.\u001b[0m\u001b[0mname\u001b[0m\u001b[0;34m)\u001b[0m\u001b[0;34m\u001b[0m\u001b[0;34m\u001b[0m\u001b[0m\n\u001b[0m\u001b[1;32m    724\u001b[0m \u001b[0;34m\u001b[0m\u001b[0m\n\u001b[1;32m    725\u001b[0m     \u001b[0;32mdef\u001b[0m \u001b[0m_validate_key\u001b[0m\u001b[0;34m(\u001b[0m\u001b[0mself\u001b[0m\u001b[0;34m,\u001b[0m \u001b[0mkey\u001b[0m\u001b[0;34m,\u001b[0m \u001b[0maxis\u001b[0m\u001b[0;34m:\u001b[0m \u001b[0mint\u001b[0m\u001b[0;34m)\u001b[0m\u001b[0;34m:\u001b[0m\u001b[0;34m\u001b[0m\u001b[0;34m\u001b[0m\u001b[0m\n",
      "\u001b[0;32m~/miniconda3/envs/svv-kurs/lib/python3.10/site-packages/pandas/core/indexing.py\u001b[0m in \u001b[0;36m_setitem_with_indexer\u001b[0;34m(self, indexer, value, name)\u001b[0m\n\u001b[1;32m   1730\u001b[0m             \u001b[0mself\u001b[0m\u001b[0;34m.\u001b[0m\u001b[0m_setitem_with_indexer_split_path\u001b[0m\u001b[0;34m(\u001b[0m\u001b[0mindexer\u001b[0m\u001b[0;34m,\u001b[0m \u001b[0mvalue\u001b[0m\u001b[0;34m,\u001b[0m \u001b[0mname\u001b[0m\u001b[0;34m)\u001b[0m\u001b[0;34m\u001b[0m\u001b[0;34m\u001b[0m\u001b[0m\n\u001b[1;32m   1731\u001b[0m         \u001b[0;32melse\u001b[0m\u001b[0;34m:\u001b[0m\u001b[0;34m\u001b[0m\u001b[0;34m\u001b[0m\u001b[0m\n\u001b[0;32m-> 1732\u001b[0;31m             \u001b[0mself\u001b[0m\u001b[0;34m.\u001b[0m\u001b[0m_setitem_single_block\u001b[0m\u001b[0;34m(\u001b[0m\u001b[0mindexer\u001b[0m\u001b[0;34m,\u001b[0m \u001b[0mvalue\u001b[0m\u001b[0;34m,\u001b[0m \u001b[0mname\u001b[0m\u001b[0;34m)\u001b[0m\u001b[0;34m\u001b[0m\u001b[0;34m\u001b[0m\u001b[0m\n\u001b[0m\u001b[1;32m   1733\u001b[0m \u001b[0;34m\u001b[0m\u001b[0m\n\u001b[1;32m   1734\u001b[0m     \u001b[0;32mdef\u001b[0m \u001b[0m_setitem_with_indexer_split_path\u001b[0m\u001b[0;34m(\u001b[0m\u001b[0mself\u001b[0m\u001b[0;34m,\u001b[0m \u001b[0mindexer\u001b[0m\u001b[0;34m,\u001b[0m \u001b[0mvalue\u001b[0m\u001b[0;34m,\u001b[0m \u001b[0mname\u001b[0m\u001b[0;34m:\u001b[0m \u001b[0mstr\u001b[0m\u001b[0;34m)\u001b[0m\u001b[0;34m:\u001b[0m\u001b[0;34m\u001b[0m\u001b[0;34m\u001b[0m\u001b[0m\n",
      "\u001b[0;32m~/miniconda3/envs/svv-kurs/lib/python3.10/site-packages/pandas/core/indexing.py\u001b[0m in \u001b[0;36m_setitem_single_block\u001b[0;34m(self, indexer, value, name)\u001b[0m\n\u001b[1;32m   1957\u001b[0m             \u001b[0;31m# setting for extensionarrays that store dicts. Need to decide\u001b[0m\u001b[0;34m\u001b[0m\u001b[0;34m\u001b[0m\u001b[0m\n\u001b[1;32m   1958\u001b[0m             \u001b[0;31m# if it's worth supporting that.\u001b[0m\u001b[0;34m\u001b[0m\u001b[0;34m\u001b[0m\u001b[0m\n\u001b[0;32m-> 1959\u001b[0;31m             \u001b[0mvalue\u001b[0m \u001b[0;34m=\u001b[0m \u001b[0mself\u001b[0m\u001b[0;34m.\u001b[0m\u001b[0m_align_series\u001b[0m\u001b[0;34m(\u001b[0m\u001b[0mindexer\u001b[0m\u001b[0;34m,\u001b[0m \u001b[0mSeries\u001b[0m\u001b[0;34m(\u001b[0m\u001b[0mvalue\u001b[0m\u001b[0;34m)\u001b[0m\u001b[0;34m)\u001b[0m\u001b[0;34m\u001b[0m\u001b[0;34m\u001b[0m\u001b[0m\n\u001b[0m\u001b[1;32m   1960\u001b[0m \u001b[0;34m\u001b[0m\u001b[0m\n\u001b[1;32m   1961\u001b[0m         \u001b[0;32melif\u001b[0m \u001b[0misinstance\u001b[0m\u001b[0;34m(\u001b[0m\u001b[0mvalue\u001b[0m\u001b[0;34m,\u001b[0m \u001b[0mABCDataFrame\u001b[0m\u001b[0;34m)\u001b[0m \u001b[0;32mand\u001b[0m \u001b[0mname\u001b[0m \u001b[0;34m!=\u001b[0m \u001b[0;34m\"iloc\"\u001b[0m\u001b[0;34m:\u001b[0m\u001b[0;34m\u001b[0m\u001b[0;34m\u001b[0m\u001b[0m\n",
      "\u001b[0;32m~/miniconda3/envs/svv-kurs/lib/python3.10/site-packages/pandas/core/indexing.py\u001b[0m in \u001b[0;36m_align_series\u001b[0;34m(self, indexer, ser, multiindex_indexer)\u001b[0m\n\u001b[1;32m   2094\u001b[0m             \u001b[0;31m# series, so need to broadcast (see GH5206)\u001b[0m\u001b[0;34m\u001b[0m\u001b[0;34m\u001b[0m\u001b[0m\n\u001b[1;32m   2095\u001b[0m             \u001b[0;32mif\u001b[0m \u001b[0msum_aligners\u001b[0m \u001b[0;34m==\u001b[0m \u001b[0mself\u001b[0m\u001b[0;34m.\u001b[0m\u001b[0mndim\u001b[0m \u001b[0;32mand\u001b[0m \u001b[0mall\u001b[0m\u001b[0;34m(\u001b[0m\u001b[0mis_sequence\u001b[0m\u001b[0;34m(\u001b[0m\u001b[0m_\u001b[0m\u001b[0;34m)\u001b[0m \u001b[0;32mfor\u001b[0m \u001b[0m_\u001b[0m \u001b[0;32min\u001b[0m \u001b[0mindexer\u001b[0m\u001b[0;34m)\u001b[0m\u001b[0;34m:\u001b[0m\u001b[0;34m\u001b[0m\u001b[0;34m\u001b[0m\u001b[0m\n\u001b[0;32m-> 2096\u001b[0;31m                 \u001b[0mser\u001b[0m \u001b[0;34m=\u001b[0m \u001b[0mser\u001b[0m\u001b[0;34m.\u001b[0m\u001b[0mreindex\u001b[0m\u001b[0;34m(\u001b[0m\u001b[0mobj\u001b[0m\u001b[0;34m.\u001b[0m\u001b[0maxes\u001b[0m\u001b[0;34m[\u001b[0m\u001b[0;36m0\u001b[0m\u001b[0;34m]\u001b[0m\u001b[0;34m[\u001b[0m\u001b[0mindexer\u001b[0m\u001b[0;34m[\u001b[0m\u001b[0;36m0\u001b[0m\u001b[0;34m]\u001b[0m\u001b[0;34m]\u001b[0m\u001b[0;34m,\u001b[0m \u001b[0mcopy\u001b[0m\u001b[0;34m=\u001b[0m\u001b[0;32mTrue\u001b[0m\u001b[0;34m)\u001b[0m\u001b[0;34m.\u001b[0m\u001b[0m_values\u001b[0m\u001b[0;34m\u001b[0m\u001b[0;34m\u001b[0m\u001b[0m\n\u001b[0m\u001b[1;32m   2097\u001b[0m \u001b[0;34m\u001b[0m\u001b[0m\n\u001b[1;32m   2098\u001b[0m                 \u001b[0;31m# single indexer\u001b[0m\u001b[0;34m\u001b[0m\u001b[0;34m\u001b[0m\u001b[0m\n",
      "\u001b[0;32m~/miniconda3/envs/svv-kurs/lib/python3.10/site-packages/pandas/core/series.py\u001b[0m in \u001b[0;36mreindex\u001b[0;34m(self, index, **kwargs)\u001b[0m\n\u001b[1;32m   4578\u001b[0m     )\n\u001b[1;32m   4579\u001b[0m     \u001b[0;32mdef\u001b[0m \u001b[0mreindex\u001b[0m\u001b[0;34m(\u001b[0m\u001b[0mself\u001b[0m\u001b[0;34m,\u001b[0m \u001b[0mindex\u001b[0m\u001b[0;34m=\u001b[0m\u001b[0;32mNone\u001b[0m\u001b[0;34m,\u001b[0m \u001b[0;34m**\u001b[0m\u001b[0mkwargs\u001b[0m\u001b[0;34m)\u001b[0m\u001b[0;34m:\u001b[0m\u001b[0;34m\u001b[0m\u001b[0;34m\u001b[0m\u001b[0m\n\u001b[0;32m-> 4580\u001b[0;31m         \u001b[0;32mreturn\u001b[0m \u001b[0msuper\u001b[0m\u001b[0;34m(\u001b[0m\u001b[0;34m)\u001b[0m\u001b[0;34m.\u001b[0m\u001b[0mreindex\u001b[0m\u001b[0;34m(\u001b[0m\u001b[0mindex\u001b[0m\u001b[0;34m=\u001b[0m\u001b[0mindex\u001b[0m\u001b[0;34m,\u001b[0m \u001b[0;34m**\u001b[0m\u001b[0mkwargs\u001b[0m\u001b[0;34m)\u001b[0m\u001b[0;34m\u001b[0m\u001b[0;34m\u001b[0m\u001b[0m\n\u001b[0m\u001b[1;32m   4581\u001b[0m \u001b[0;34m\u001b[0m\u001b[0m\n\u001b[1;32m   4582\u001b[0m     \u001b[0;34m@\u001b[0m\u001b[0mdeprecate_nonkeyword_arguments\u001b[0m\u001b[0;34m(\u001b[0m\u001b[0mversion\u001b[0m\u001b[0;34m=\u001b[0m\u001b[0;32mNone\u001b[0m\u001b[0;34m,\u001b[0m \u001b[0mallowed_args\u001b[0m\u001b[0;34m=\u001b[0m\u001b[0;34m[\u001b[0m\u001b[0;34m\"self\"\u001b[0m\u001b[0;34m,\u001b[0m \u001b[0;34m\"labels\"\u001b[0m\u001b[0;34m]\u001b[0m\u001b[0;34m)\u001b[0m\u001b[0;34m\u001b[0m\u001b[0;34m\u001b[0m\u001b[0m\n",
      "\u001b[0;32m~/miniconda3/envs/svv-kurs/lib/python3.10/site-packages/pandas/core/generic.py\u001b[0m in \u001b[0;36mreindex\u001b[0;34m(self, *args, **kwargs)\u001b[0m\n\u001b[1;32m   4816\u001b[0m \u001b[0;34m\u001b[0m\u001b[0m\n\u001b[1;32m   4817\u001b[0m         \u001b[0;31m# perform the reindex on the axes\u001b[0m\u001b[0;34m\u001b[0m\u001b[0;34m\u001b[0m\u001b[0m\n\u001b[0;32m-> 4818\u001b[0;31m         return self._reindex_axes(\n\u001b[0m\u001b[1;32m   4819\u001b[0m             \u001b[0maxes\u001b[0m\u001b[0;34m,\u001b[0m \u001b[0mlevel\u001b[0m\u001b[0;34m,\u001b[0m \u001b[0mlimit\u001b[0m\u001b[0;34m,\u001b[0m \u001b[0mtolerance\u001b[0m\u001b[0;34m,\u001b[0m \u001b[0mmethod\u001b[0m\u001b[0;34m,\u001b[0m \u001b[0mfill_value\u001b[0m\u001b[0;34m,\u001b[0m \u001b[0mcopy\u001b[0m\u001b[0;34m\u001b[0m\u001b[0;34m\u001b[0m\u001b[0m\n\u001b[1;32m   4820\u001b[0m         ).__finalize__(self, method=\"reindex\")\n",
      "\u001b[0;32m~/miniconda3/envs/svv-kurs/lib/python3.10/site-packages/pandas/core/generic.py\u001b[0m in \u001b[0;36m_reindex_axes\u001b[0;34m(self, axes, level, limit, tolerance, method, fill_value, copy)\u001b[0m\n\u001b[1;32m   4837\u001b[0m \u001b[0;34m\u001b[0m\u001b[0m\n\u001b[1;32m   4838\u001b[0m             \u001b[0maxis\u001b[0m \u001b[0;34m=\u001b[0m \u001b[0mself\u001b[0m\u001b[0;34m.\u001b[0m\u001b[0m_get_axis_number\u001b[0m\u001b[0;34m(\u001b[0m\u001b[0ma\u001b[0m\u001b[0;34m)\u001b[0m\u001b[0;34m\u001b[0m\u001b[0;34m\u001b[0m\u001b[0m\n\u001b[0;32m-> 4839\u001b[0;31m             obj = obj._reindex_with_indexers(\n\u001b[0m\u001b[1;32m   4840\u001b[0m                 \u001b[0;34m{\u001b[0m\u001b[0maxis\u001b[0m\u001b[0;34m:\u001b[0m \u001b[0;34m[\u001b[0m\u001b[0mnew_index\u001b[0m\u001b[0;34m,\u001b[0m \u001b[0mindexer\u001b[0m\u001b[0;34m]\u001b[0m\u001b[0;34m}\u001b[0m\u001b[0;34m,\u001b[0m\u001b[0;34m\u001b[0m\u001b[0;34m\u001b[0m\u001b[0m\n\u001b[1;32m   4841\u001b[0m                 \u001b[0mfill_value\u001b[0m\u001b[0;34m=\u001b[0m\u001b[0mfill_value\u001b[0m\u001b[0;34m,\u001b[0m\u001b[0;34m\u001b[0m\u001b[0;34m\u001b[0m\u001b[0m\n",
      "\u001b[0;32m~/miniconda3/envs/svv-kurs/lib/python3.10/site-packages/pandas/core/generic.py\u001b[0m in \u001b[0;36m_reindex_with_indexers\u001b[0;34m(self, reindexers, fill_value, copy, allow_dups)\u001b[0m\n\u001b[1;32m   4881\u001b[0m \u001b[0;34m\u001b[0m\u001b[0m\n\u001b[1;32m   4882\u001b[0m             \u001b[0;31m# TODO: speed up on homogeneous DataFrame objects\u001b[0m\u001b[0;34m\u001b[0m\u001b[0;34m\u001b[0m\u001b[0m\n\u001b[0;32m-> 4883\u001b[0;31m             new_data = new_data.reindex_indexer(\n\u001b[0m\u001b[1;32m   4884\u001b[0m                 \u001b[0mindex\u001b[0m\u001b[0;34m,\u001b[0m\u001b[0;34m\u001b[0m\u001b[0;34m\u001b[0m\u001b[0m\n\u001b[1;32m   4885\u001b[0m                 \u001b[0mindexer\u001b[0m\u001b[0;34m,\u001b[0m\u001b[0;34m\u001b[0m\u001b[0;34m\u001b[0m\u001b[0m\n",
      "\u001b[0;32m~/miniconda3/envs/svv-kurs/lib/python3.10/site-packages/pandas/core/internals/managers.py\u001b[0m in \u001b[0;36mreindex_indexer\u001b[0;34m(self, new_axis, indexer, axis, fill_value, allow_dups, copy, consolidate, only_slice)\u001b[0m\n\u001b[1;32m    668\u001b[0m         \u001b[0;31m# some axes don't allow reindexing with dups\u001b[0m\u001b[0;34m\u001b[0m\u001b[0;34m\u001b[0m\u001b[0m\n\u001b[1;32m    669\u001b[0m         \u001b[0;32mif\u001b[0m \u001b[0;32mnot\u001b[0m \u001b[0mallow_dups\u001b[0m\u001b[0;34m:\u001b[0m\u001b[0;34m\u001b[0m\u001b[0;34m\u001b[0m\u001b[0m\n\u001b[0;32m--> 670\u001b[0;31m             \u001b[0mself\u001b[0m\u001b[0;34m.\u001b[0m\u001b[0maxes\u001b[0m\u001b[0;34m[\u001b[0m\u001b[0maxis\u001b[0m\u001b[0;34m]\u001b[0m\u001b[0;34m.\u001b[0m\u001b[0m_validate_can_reindex\u001b[0m\u001b[0;34m(\u001b[0m\u001b[0mindexer\u001b[0m\u001b[0;34m)\u001b[0m\u001b[0;34m\u001b[0m\u001b[0;34m\u001b[0m\u001b[0m\n\u001b[0m\u001b[1;32m    671\u001b[0m \u001b[0;34m\u001b[0m\u001b[0m\n\u001b[1;32m    672\u001b[0m         \u001b[0;32mif\u001b[0m \u001b[0maxis\u001b[0m \u001b[0;34m>=\u001b[0m \u001b[0mself\u001b[0m\u001b[0;34m.\u001b[0m\u001b[0mndim\u001b[0m\u001b[0;34m:\u001b[0m\u001b[0;34m\u001b[0m\u001b[0;34m\u001b[0m\u001b[0m\n",
      "\u001b[0;32m~/miniconda3/envs/svv-kurs/lib/python3.10/site-packages/pandas/core/indexes/base.py\u001b[0m in \u001b[0;36m_validate_can_reindex\u001b[0;34m(self, indexer)\u001b[0m\n\u001b[1;32m   3783\u001b[0m         \u001b[0;31m# trying to reindex on an axis with duplicates\u001b[0m\u001b[0;34m\u001b[0m\u001b[0;34m\u001b[0m\u001b[0m\n\u001b[1;32m   3784\u001b[0m         \u001b[0;32mif\u001b[0m \u001b[0;32mnot\u001b[0m \u001b[0mself\u001b[0m\u001b[0;34m.\u001b[0m\u001b[0m_index_as_unique\u001b[0m \u001b[0;32mand\u001b[0m \u001b[0mlen\u001b[0m\u001b[0;34m(\u001b[0m\u001b[0mindexer\u001b[0m\u001b[0;34m)\u001b[0m\u001b[0;34m:\u001b[0m\u001b[0;34m\u001b[0m\u001b[0;34m\u001b[0m\u001b[0m\n\u001b[0;32m-> 3785\u001b[0;31m             \u001b[0;32mraise\u001b[0m \u001b[0mValueError\u001b[0m\u001b[0;34m(\u001b[0m\u001b[0;34m\"cannot reindex from a duplicate axis\"\u001b[0m\u001b[0;34m)\u001b[0m\u001b[0;34m\u001b[0m\u001b[0;34m\u001b[0m\u001b[0m\n\u001b[0m\u001b[1;32m   3786\u001b[0m \u001b[0;34m\u001b[0m\u001b[0m\n\u001b[1;32m   3787\u001b[0m     def reindex(\n",
      "\u001b[0;31mValueError\u001b[0m: cannot reindex from a duplicate axis"
     ]
    },
    {
     "data": {
      "image/png": "[encoded data removed]",
      "text/plain": [
       "<Figure size 432x288 with 1 Axes>"
      ]
     },
     "metadata": {
      "needs_background": "light"
     },
     "output_type": "display_data"
    }
   ],
   "source": [
    "palette=sns.color_palette('Paired', n_colors=7)\n",
    "\n",
    "sns.lineplot(x=df_total.index.hour, y=df_total['total.volumeNumbers.volume'], palette=palette, hue=df_total['dayofweek'])"
   ]
  },
  {
   "cell_type": "code",
   "execution_count": null,
   "id": "0d3205ca-38d2-45f7-9e76-dedae6ee813a",
   "metadata": {},
   "outputs": [],
   "source": []
  }
 ],
 "metadata": {
  "kernelspec": {
   "display_name": "Python 3 (ipykernel)",
   "language": "python",
   "name": "python3"
  },
  "language_info": {
   "codemirror_mode": {
    "name": "ipython",
    "version": 3
   },
   "file_extension": ".py",
   "mimetype": "text/x-python",
   "name": "python",
   "nbconvert_exporter": "python",
   "pygments_lexer": "ipython3",
   "version": "3.10.0"
  }
 },
 "nbformat": 4,
 "nbformat_minor": 5
}
