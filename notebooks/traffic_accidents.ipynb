{
 "cells": [
  {
   "cell_type": "code",
   "execution_count": 20,
   "id": "1d0b100c-692d-49e0-860c-693c606a2fd3",
   "metadata": {},
   "outputs": [
    {
     "name": "stdout",
     "output_type": "stream",
     "text": [
      "Collecting package metadata (current_repodata.json): done\n",
      "Solving environment: failed with initial frozen solve. Retrying with flexible solve.\n",
      "Solving environment: failed with repodata from current_repodata.json, will retry with next repodata source.\n",
      "Collecting package metadata (repodata.json): done\n",
      "Solving environment: done\n",
      "\n",
      "## Package Plan ##\n",
      "\n",
      "  environment location: /home/kensor/anaconda3/envs/svv-kurs\n",
      "\n",
      "  added / updated specs:\n",
      "    - gql\n",
      "\n",
      "\n",
      "The following packages will be downloaded:\n",
      "\n",
      "    package                    |            build\n",
      "    ---------------------------|-----------------\n",
      "    gql-2.0.0                  |     pyh9f0ad1d_0          12 KB  conda-forge\n",
      "    graphql-core-2.3.2         |     pyh9f0ad1d_0          89 KB  conda-forge\n",
      "    promise-2.3                |  py310hff52083_5          36 KB  conda-forge\n",
      "    rx-1.6.1                   |             py_0          74 KB  conda-forge\n",
      "    ------------------------------------------------------------\n",
      "                                           Total:         211 KB\n",
      "\n",
      "The following NEW packages will be INSTALLED:\n",
      "\n",
      "  gql                conda-forge/noarch::gql-2.0.0-pyh9f0ad1d_0\n",
      "  graphql-core       conda-forge/noarch::graphql-core-2.3.2-pyh9f0ad1d_0\n",
      "  promise            conda-forge/linux-64::promise-2.3-py310hff52083_5\n",
      "  rx                 conda-forge/noarch::rx-1.6.1-py_0\n",
      "\n",
      "\n",
      "\n",
      "Downloading and Extracting Packages\n",
      "graphql-core-2.3.2   | 89 KB     | ##################################### | 100% \n",
      "gql-2.0.0            | 12 KB     | ##################################### | 100% \n",
      "rx-1.6.1             | 74 KB     | ##################################### | 100% \n",
      "promise-2.3          | 36 KB     | ##################################### | 100% \n",
      "Preparing transaction: done\n",
      "Verifying transaction: done\n",
      "Executing transaction: done\n"
     ]
    }
   ],
   "source": [
    "!conda install -c conda-forge gql -y"
   ]
  },
  {
   "cell_type": "code",
   "execution_count": 26,
   "id": "28fd9438-6108-4cdc-9f3b-6558b9fbb038",
   "metadata": {},
   "outputs": [
    {
     "name": "stdout",
     "output_type": "stream",
     "text": [
      "Writing nvdbapi-clientinfo.json\n"
     ]
    }
   ],
   "source": [
    "%%writefile nvdbapi-clientinfo.json\n",
    "{ \"X-Client\" : \"nvdbapi.py fra Nvdb gjengen, vegdirektoratet\", \n",
    " \"X-Kontaktperson\" : \"kenneth.sorensen@vegvesen.no\" }"
   ]
  },
  {
   "cell_type": "code",
   "execution_count": 27,
   "id": "8260516c-85c6-41cf-85ca-0969a6be2876",
   "metadata": {},
   "outputs": [],
   "source": [
    "## Import script to read data\n",
    "import os\n",
    "import sys\n",
    "module_path = os.path.abspath(os.path.join('..'))\n",
    "if module_path not in sys.path:\n",
    "    sys.path.append(module_path)\n",
    "from src.data.get_data_from_trafikkdata import get_data_from_trafikkdata"
   ]
  },
  {
   "cell_type": "code",
   "execution_count": 32,
   "id": "a0bb5978-1490-4350-94c1-7ebdcb0b9d78",
   "metadata": {},
   "outputs": [
    {
     "ename": "TypeError",
     "evalue": "get_data_from_trafikkdata() takes 1 positional argument but 2 were given",
     "output_type": "error",
     "traceback": [
      "\u001b[0;31m---------------------------------------------------------------------------\u001b[0m",
      "\u001b[0;31mTypeError\u001b[0m                                 Traceback (most recent call last)",
      "\u001b[0;32m/tmp/ipykernel_6886/1171319866.py\u001b[0m in \u001b[0;36m<module>\u001b[0;34m\u001b[0m\n\u001b[0;32m----> 1\u001b[0;31m \u001b[0mdf\u001b[0m \u001b[0;34m=\u001b[0m  \u001b[0mget_data_from_trafikkdata\u001b[0m\u001b[0;34m(\u001b[0m\u001b[0;36m482\u001b[0m\u001b[0;34m,\u001b[0m\u001b[0;34m\"9293=12993\"\u001b[0m\u001b[0;34m)\u001b[0m\u001b[0;34m\u001b[0m\u001b[0;34m\u001b[0m\u001b[0m\n\u001b[0m",
      "\u001b[0;31mTypeError\u001b[0m: get_data_from_trafikkdata() takes 1 positional argument but 2 were given"
     ]
    }
   ],
   "source": [
    "df =  get_data_from_trafikkdata(482,\"9293=12993\")"
   ]
  },
  {
   "cell_type": "code",
   "execution_count": 31,
   "id": "1e0b9ebf-e3b7-4e74-b5aa-52757f362375",
   "metadata": {},
   "outputs": [
    {
     "name": "stdout",
     "output_type": "stream",
     "text": [
      "Index(['geometry', 'Med-retning (fra)', 'Mot-retning (fra)',\n",
      "       'Registreringsnivå', 'Antall kjørefelt', 'Sist oppdatert fra NorTraf',\n",
      "       'Trafikantgruppe', 'Status', 'Stasjonsnavn', 'Målestasjonsnummer', 'id',\n",
      "       'metadata', 'antall vegsegmenter', 'vegsegment nr', 'vegsystem',\n",
      "       'strekning', 'kortform', 'veglenkesekvensid', 'relativPosisjon',\n",
      "       'retning', 'veglenkeType', 'detaljnivå', 'typeVeg', 'typeVeg_sosi',\n",
      "       'startdato', 'kommune', 'fylke', 'Geometri, punkt',\n",
      "       'Vedlikeholdsansvarlig', 'Eier', 'Sist oppdatert fra MSR',\n",
      "       'Prosjektreferanse'],\n",
      "      dtype='object')\n"
     ]
    }
   ],
   "source": [
    "print(df.columns)"
   ]
  },
  {
   "cell_type": "code",
   "execution_count": null,
   "id": "a2f81d69-f819-4833-8fcb-9876dc94fb5a",
   "metadata": {},
   "outputs": [],
   "source": []
  },
  {
   "cell_type": "code",
   "execution_count": null,
   "id": "670c8190-c5a8-44d6-bb43-d912556541bc",
   "metadata": {},
   "outputs": [],
   "source": []
  }
 ],
 "metadata": {
  "kernelspec": {
   "display_name": "Python 3 (ipykernel)",
   "language": "python",
   "name": "python3"
  },
  "language_info": {
   "codemirror_mode": {
    "name": "ipython",
    "version": 3
   },
   "file_extension": ".py",
   "mimetype": "text/x-python",
   "name": "python",
   "nbconvert_exporter": "python",
   "pygments_lexer": "ipython3",
   "version": "3.10.0"
  }
 },
 "nbformat": 4,
 "nbformat_minor": 5
}
